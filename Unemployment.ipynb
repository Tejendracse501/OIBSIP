{
 "cells": [
  {
   "cell_type": "markdown",
   "id": "ce9bd328",
   "metadata": {},
   "source": [
    "# UNEMPLOYMENT ANALYSIS WITH PYTHON"
   ]
  },
  {
   "cell_type": "markdown",
   "id": "665036a1",
   "metadata": {},
   "source": [
    "Finding unemployment rate in our country, after covid-19 it has been increased,we analysis this from  a data set in kaggle."
   ]
  },
  {
   "cell_type": "markdown",
   "id": "b1727cf8",
   "metadata": {},
   "source": [
    "# IMPORTING ALL THE LIBRARIES"
   ]
  },
  {
   "cell_type": "code",
   "execution_count": 2,
   "id": "b4f644f1",
   "metadata": {},
   "outputs": [],
   "source": [
    "import numpy as np\n",
    "import pandas as pd\n",
    "import matplotlib.pyplot as plt\n",
    "import seaborn as sn"
   ]
  },
  {
   "cell_type": "markdown",
   "id": "0f143dcd",
   "metadata": {},
   "source": [
    "### LOAD THE DATA SET"
   ]
  },
  {
   "cell_type": "code",
   "execution_count": 3,
   "id": "0af13232",
   "metadata": {},
   "outputs": [
    {
     "name": "stdout",
     "output_type": "stream",
     "text": [
      "             region         date frequency  Estimated_unemployment_rate  \\\n",
      "0    Andhra Pradesh   31-05-2019   Monthly                         3.65   \n",
      "1    Andhra Pradesh   30-06-2019   Monthly                         3.05   \n",
      "2    Andhra Pradesh   31-07-2019   Monthly                         3.75   \n",
      "3    Andhra Pradesh   31-08-2019   Monthly                         3.32   \n",
      "4    Andhra Pradesh   30-09-2019   Monthly                         5.17   \n",
      "..              ...          ...       ...                          ...   \n",
      "749     West Bengal   29-02-2020   Monthly                         7.55   \n",
      "750     West Bengal   31-03-2020   Monthly                         6.67   \n",
      "751     West Bengal   30-04-2020   Monthly                        15.63   \n",
      "752     West Bengal   31-05-2020   Monthly                        15.22   \n",
      "753     West Bengal   30-06-2020   Monthly                         9.86   \n",
      "\n",
      "     estimated_employed   Estimated_Labour_ Participation_Rate   area  \n",
      "0            11999139.0                                  43.24  Rural  \n",
      "1            11755881.0                                  42.05  Rural  \n",
      "2            12086707.0                                  43.50  Rural  \n",
      "3            12285693.0                                  43.97  Rural  \n",
      "4            12256762.0                                  44.68  Rural  \n",
      "..                  ...                                    ...    ...  \n",
      "749          10871168.0                                  44.09  Urban  \n",
      "750          10806105.0                                  43.34  Urban  \n",
      "751           9299466.0                                  41.20  Urban  \n",
      "752           9240903.0                                  40.67  Urban  \n",
      "753           9088931.0                                  37.57  Urban  \n",
      "\n",
      "[754 rows x 7 columns]\n"
     ]
    }
   ],
   "source": [
    "df=pd.read_csv('unemployment in India.csv')\n",
    "print(df)   "
   ]
  },
  {
   "cell_type": "markdown",
   "id": "23a10825",
   "metadata": {},
   "source": [
    "### PRINTING DATASET OF TWO DIFFERENT COUNTRIES"
   ]
  },
  {
   "cell_type": "code",
   "execution_count": 4,
   "id": "5b729bac",
   "metadata": {
    "scrolled": true
   },
   "outputs": [
    {
     "data": {
      "text/html": [
       "<div>\n",
       "<style scoped>\n",
       "    .dataframe tbody tr th:only-of-type {\n",
       "        vertical-align: middle;\n",
       "    }\n",
       "\n",
       "    .dataframe tbody tr th {\n",
       "        vertical-align: top;\n",
       "    }\n",
       "\n",
       "    .dataframe thead th {\n",
       "        text-align: right;\n",
       "    }\n",
       "</style>\n",
       "<table border=\"1\" class=\"dataframe\">\n",
       "  <thead>\n",
       "    <tr style=\"text-align: right;\">\n",
       "      <th></th>\n",
       "      <th>region</th>\n",
       "      <th>date</th>\n",
       "      <th>frequency</th>\n",
       "      <th>Estimated_unemployment_rate</th>\n",
       "      <th>estimated_employed</th>\n",
       "      <th>Estimated_Labour_ Participation_Rate</th>\n",
       "      <th>area</th>\n",
       "    </tr>\n",
       "  </thead>\n",
       "  <tbody>\n",
       "    <tr>\n",
       "      <th>0</th>\n",
       "      <td>Andhra Pradesh</td>\n",
       "      <td>31-05-2019</td>\n",
       "      <td>Monthly</td>\n",
       "      <td>3.65</td>\n",
       "      <td>11999139.0</td>\n",
       "      <td>43.24</td>\n",
       "      <td>Rural</td>\n",
       "    </tr>\n",
       "    <tr>\n",
       "      <th>1</th>\n",
       "      <td>Andhra Pradesh</td>\n",
       "      <td>30-06-2019</td>\n",
       "      <td>Monthly</td>\n",
       "      <td>3.05</td>\n",
       "      <td>11755881.0</td>\n",
       "      <td>42.05</td>\n",
       "      <td>Rural</td>\n",
       "    </tr>\n",
       "    <tr>\n",
       "      <th>2</th>\n",
       "      <td>Andhra Pradesh</td>\n",
       "      <td>31-07-2019</td>\n",
       "      <td>Monthly</td>\n",
       "      <td>3.75</td>\n",
       "      <td>12086707.0</td>\n",
       "      <td>43.50</td>\n",
       "      <td>Rural</td>\n",
       "    </tr>\n",
       "    <tr>\n",
       "      <th>3</th>\n",
       "      <td>Andhra Pradesh</td>\n",
       "      <td>31-08-2019</td>\n",
       "      <td>Monthly</td>\n",
       "      <td>3.32</td>\n",
       "      <td>12285693.0</td>\n",
       "      <td>43.97</td>\n",
       "      <td>Rural</td>\n",
       "    </tr>\n",
       "    <tr>\n",
       "      <th>4</th>\n",
       "      <td>Andhra Pradesh</td>\n",
       "      <td>30-09-2019</td>\n",
       "      <td>Monthly</td>\n",
       "      <td>5.17</td>\n",
       "      <td>12256762.0</td>\n",
       "      <td>44.68</td>\n",
       "      <td>Rural</td>\n",
       "    </tr>\n",
       "    <tr>\n",
       "      <th>5</th>\n",
       "      <td>Andhra Pradesh</td>\n",
       "      <td>31-10-2019</td>\n",
       "      <td>Monthly</td>\n",
       "      <td>3.52</td>\n",
       "      <td>12017412.0</td>\n",
       "      <td>43.01</td>\n",
       "      <td>Rural</td>\n",
       "    </tr>\n",
       "  </tbody>\n",
       "</table>\n",
       "</div>"
      ],
      "text/plain": [
       "           region         date frequency  Estimated_unemployment_rate  \\\n",
       "0  Andhra Pradesh   31-05-2019   Monthly                         3.65   \n",
       "1  Andhra Pradesh   30-06-2019   Monthly                         3.05   \n",
       "2  Andhra Pradesh   31-07-2019   Monthly                         3.75   \n",
       "3  Andhra Pradesh   31-08-2019   Monthly                         3.32   \n",
       "4  Andhra Pradesh   30-09-2019   Monthly                         5.17   \n",
       "5  Andhra Pradesh   31-10-2019   Monthly                         3.52   \n",
       "\n",
       "   estimated_employed   Estimated_Labour_ Participation_Rate   area  \n",
       "0          11999139.0                                  43.24  Rural  \n",
       "1          11755881.0                                  42.05  Rural  \n",
       "2          12086707.0                                  43.50  Rural  \n",
       "3          12285693.0                                  43.97  Rural  \n",
       "4          12256762.0                                  44.68  Rural  \n",
       "5          12017412.0                                  43.01  Rural  "
      ]
     },
     "execution_count": 4,
     "metadata": {},
     "output_type": "execute_result"
    }
   ],
   "source": [
    "df.loc[:5]"
   ]
  },
  {
   "cell_type": "code",
   "execution_count": 5,
   "id": "2db1445c",
   "metadata": {
    "scrolled": true
   },
   "outputs": [
    {
     "data": {
      "text/html": [
       "<div>\n",
       "<style scoped>\n",
       "    .dataframe tbody tr th:only-of-type {\n",
       "        vertical-align: middle;\n",
       "    }\n",
       "\n",
       "    .dataframe tbody tr th {\n",
       "        vertical-align: top;\n",
       "    }\n",
       "\n",
       "    .dataframe thead th {\n",
       "        text-align: right;\n",
       "    }\n",
       "</style>\n",
       "<table border=\"1\" class=\"dataframe\">\n",
       "  <thead>\n",
       "    <tr style=\"text-align: right;\">\n",
       "      <th></th>\n",
       "      <th>region</th>\n",
       "      <th>date</th>\n",
       "      <th>frequency</th>\n",
       "      <th>Estimated_unemployment_rate</th>\n",
       "      <th>estimated_employed</th>\n",
       "      <th>Estimated_Labour_ Participation_Rate</th>\n",
       "      <th>area</th>\n",
       "    </tr>\n",
       "  </thead>\n",
       "  <tbody>\n",
       "    <tr>\n",
       "      <th>600</th>\n",
       "      <td>Meghalaya</td>\n",
       "      <td>30-04-2020</td>\n",
       "      <td>Monthly</td>\n",
       "      <td>17.39</td>\n",
       "      <td>161939.0</td>\n",
       "      <td>36.51</td>\n",
       "      <td>Urban</td>\n",
       "    </tr>\n",
       "    <tr>\n",
       "      <th>601</th>\n",
       "      <td>Meghalaya</td>\n",
       "      <td>31-05-2020</td>\n",
       "      <td>Monthly</td>\n",
       "      <td>14.58</td>\n",
       "      <td>222916.0</td>\n",
       "      <td>48.48</td>\n",
       "      <td>Urban</td>\n",
       "    </tr>\n",
       "    <tr>\n",
       "      <th>602</th>\n",
       "      <td>Odisha</td>\n",
       "      <td>31-05-2019</td>\n",
       "      <td>Monthly</td>\n",
       "      <td>2.95</td>\n",
       "      <td>2519582.0</td>\n",
       "      <td>41.26</td>\n",
       "      <td>Urban</td>\n",
       "    </tr>\n",
       "    <tr>\n",
       "      <th>603</th>\n",
       "      <td>Odisha</td>\n",
       "      <td>30-06-2019</td>\n",
       "      <td>Monthly</td>\n",
       "      <td>2.63</td>\n",
       "      <td>2356290.0</td>\n",
       "      <td>38.39</td>\n",
       "      <td>Urban</td>\n",
       "    </tr>\n",
       "    <tr>\n",
       "      <th>604</th>\n",
       "      <td>Odisha</td>\n",
       "      <td>31-07-2019</td>\n",
       "      <td>Monthly</td>\n",
       "      <td>1.78</td>\n",
       "      <td>2542237.0</td>\n",
       "      <td>40.99</td>\n",
       "      <td>Urban</td>\n",
       "    </tr>\n",
       "    <tr>\n",
       "      <th>605</th>\n",
       "      <td>Odisha</td>\n",
       "      <td>31-08-2019</td>\n",
       "      <td>Monthly</td>\n",
       "      <td>3.50</td>\n",
       "      <td>2456983.0</td>\n",
       "      <td>40.25</td>\n",
       "      <td>Urban</td>\n",
       "    </tr>\n",
       "  </tbody>\n",
       "</table>\n",
       "</div>"
      ],
      "text/plain": [
       "        region         date frequency  Estimated_unemployment_rate  \\\n",
       "600  Meghalaya   30-04-2020   Monthly                        17.39   \n",
       "601  Meghalaya   31-05-2020   Monthly                        14.58   \n",
       "602     Odisha   31-05-2019   Monthly                         2.95   \n",
       "603     Odisha   30-06-2019   Monthly                         2.63   \n",
       "604     Odisha   31-07-2019   Monthly                         1.78   \n",
       "605     Odisha   31-08-2019   Monthly                         3.50   \n",
       "\n",
       "     estimated_employed   Estimated_Labour_ Participation_Rate   area  \n",
       "600            161939.0                                  36.51  Urban  \n",
       "601            222916.0                                  48.48  Urban  \n",
       "602           2519582.0                                  41.26  Urban  \n",
       "603           2356290.0                                  38.39  Urban  \n",
       "604           2542237.0                                  40.99  Urban  \n",
       "605           2456983.0                                  40.25  Urban  "
      ]
     },
     "execution_count": 5,
     "metadata": {},
     "output_type": "execute_result"
    }
   ],
   "source": [
    "df.loc[600:605]"
   ]
  },
  {
   "cell_type": "markdown",
   "id": "45ddb6fa",
   "metadata": {},
   "source": [
    "### ANALYSING THE STATISTICS OF THE DATASET"
   ]
  },
  {
   "cell_type": "code",
   "execution_count": 6,
   "id": "327a97fe",
   "metadata": {
    "scrolled": true
   },
   "outputs": [
    {
     "data": {
      "text/html": [
       "<div>\n",
       "<style scoped>\n",
       "    .dataframe tbody tr th:only-of-type {\n",
       "        vertical-align: middle;\n",
       "    }\n",
       "\n",
       "    .dataframe tbody tr th {\n",
       "        vertical-align: top;\n",
       "    }\n",
       "\n",
       "    .dataframe thead th {\n",
       "        text-align: right;\n",
       "    }\n",
       "</style>\n",
       "<table border=\"1\" class=\"dataframe\">\n",
       "  <thead>\n",
       "    <tr style=\"text-align: right;\">\n",
       "      <th></th>\n",
       "      <th>Estimated_unemployment_rate</th>\n",
       "      <th>estimated_employed</th>\n",
       "      <th>Estimated_Labour_ Participation_Rate</th>\n",
       "    </tr>\n",
       "  </thead>\n",
       "  <tbody>\n",
       "    <tr>\n",
       "      <th>count</th>\n",
       "      <td>740.000000</td>\n",
       "      <td>7.400000e+02</td>\n",
       "      <td>740.000000</td>\n",
       "    </tr>\n",
       "    <tr>\n",
       "      <th>mean</th>\n",
       "      <td>11.787946</td>\n",
       "      <td>7.204460e+06</td>\n",
       "      <td>42.630122</td>\n",
       "    </tr>\n",
       "    <tr>\n",
       "      <th>std</th>\n",
       "      <td>10.721298</td>\n",
       "      <td>8.087988e+06</td>\n",
       "      <td>8.111094</td>\n",
       "    </tr>\n",
       "    <tr>\n",
       "      <th>min</th>\n",
       "      <td>0.000000</td>\n",
       "      <td>4.942000e+04</td>\n",
       "      <td>13.330000</td>\n",
       "    </tr>\n",
       "    <tr>\n",
       "      <th>25%</th>\n",
       "      <td>4.657500</td>\n",
       "      <td>1.190404e+06</td>\n",
       "      <td>38.062500</td>\n",
       "    </tr>\n",
       "    <tr>\n",
       "      <th>50%</th>\n",
       "      <td>8.350000</td>\n",
       "      <td>4.744178e+06</td>\n",
       "      <td>41.160000</td>\n",
       "    </tr>\n",
       "    <tr>\n",
       "      <th>75%</th>\n",
       "      <td>15.887500</td>\n",
       "      <td>1.127549e+07</td>\n",
       "      <td>45.505000</td>\n",
       "    </tr>\n",
       "    <tr>\n",
       "      <th>max</th>\n",
       "      <td>76.740000</td>\n",
       "      <td>4.577751e+07</td>\n",
       "      <td>72.570000</td>\n",
       "    </tr>\n",
       "  </tbody>\n",
       "</table>\n",
       "</div>"
      ],
      "text/plain": [
       "       Estimated_unemployment_rate  estimated_employed  \\\n",
       "count                   740.000000        7.400000e+02   \n",
       "mean                     11.787946        7.204460e+06   \n",
       "std                      10.721298        8.087988e+06   \n",
       "min                       0.000000        4.942000e+04   \n",
       "25%                       4.657500        1.190404e+06   \n",
       "50%                       8.350000        4.744178e+06   \n",
       "75%                      15.887500        1.127549e+07   \n",
       "max                      76.740000        4.577751e+07   \n",
       "\n",
       "        Estimated_Labour_ Participation_Rate  \n",
       "count                             740.000000  \n",
       "mean                               42.630122  \n",
       "std                                 8.111094  \n",
       "min                                13.330000  \n",
       "25%                                38.062500  \n",
       "50%                                41.160000  \n",
       "75%                                45.505000  \n",
       "max                                72.570000  "
      ]
     },
     "execution_count": 6,
     "metadata": {},
     "output_type": "execute_result"
    }
   ],
   "source": [
    "df.describe()"
   ]
  },
  {
   "cell_type": "markdown",
   "id": "419b2a05",
   "metadata": {},
   "source": [
    "From the above analysis max Estimed unemployement rate(%) reaches 76%, due to pandameic covid-19"
   ]
  },
  {
   "cell_type": "markdown",
   "id": "e42dbae5",
   "metadata": {},
   "source": [
    "### CHECKING FOR NUll VALUES IN THE DATASET"
   ]
  },
  {
   "cell_type": "code",
   "execution_count": 7,
   "id": "75a05bbc",
   "metadata": {},
   "outputs": [
    {
     "data": {
      "text/plain": [
       "True"
      ]
     },
     "execution_count": 7,
     "metadata": {},
     "output_type": "execute_result"
    }
   ],
   "source": [
    "df.isnull().values.any()"
   ]
  },
  {
   "cell_type": "markdown",
   "id": "27eea540",
   "metadata": {},
   "source": [
    "### Let's drop those missing values"
   ]
  },
  {
   "cell_type": "code",
   "execution_count": 8,
   "id": "e9abee68",
   "metadata": {
    "scrolled": true
   },
   "outputs": [
    {
     "data": {
      "text/plain": [
       "region                                   14\n",
       "date                                     14\n",
       "frequency                                14\n",
       "Estimated_unemployment_rate              14\n",
       "estimated_employed                       14\n",
       " Estimated_Labour_ Participation_Rate    14\n",
       "area                                     14\n",
       "dtype: int64"
      ]
     },
     "execution_count": 8,
     "metadata": {},
     "output_type": "execute_result"
    }
   ],
   "source": [
    "df.isnull().sum()"
   ]
  },
  {
   "cell_type": "markdown",
   "id": "efbef98f",
   "metadata": {},
   "source": [
    "total 28 missing values in each column, lets drop them by using dropna about axis=0 about column"
   ]
  },
  {
   "cell_type": "markdown",
   "id": "f2a3cbd9",
   "metadata": {},
   "source": [
    "### DROPPING THE MISSING VALUES"
   ]
  },
  {
   "cell_type": "code",
   "execution_count": 9,
   "id": "3097857b",
   "metadata": {
    "scrolled": false
   },
   "outputs": [
    {
     "data": {
      "text/html": [
       "<div>\n",
       "<style scoped>\n",
       "    .dataframe tbody tr th:only-of-type {\n",
       "        vertical-align: middle;\n",
       "    }\n",
       "\n",
       "    .dataframe tbody tr th {\n",
       "        vertical-align: top;\n",
       "    }\n",
       "\n",
       "    .dataframe thead th {\n",
       "        text-align: right;\n",
       "    }\n",
       "</style>\n",
       "<table border=\"1\" class=\"dataframe\">\n",
       "  <thead>\n",
       "    <tr style=\"text-align: right;\">\n",
       "      <th></th>\n",
       "      <th>region</th>\n",
       "      <th>date</th>\n",
       "      <th>frequency</th>\n",
       "      <th>Estimated_unemployment_rate</th>\n",
       "      <th>estimated_employed</th>\n",
       "      <th>Estimated_Labour_ Participation_Rate</th>\n",
       "      <th>area</th>\n",
       "    </tr>\n",
       "  </thead>\n",
       "  <tbody>\n",
       "    <tr>\n",
       "      <th>0</th>\n",
       "      <td>Andhra Pradesh</td>\n",
       "      <td>31-05-2019</td>\n",
       "      <td>Monthly</td>\n",
       "      <td>3.65</td>\n",
       "      <td>11999139.0</td>\n",
       "      <td>43.24</td>\n",
       "      <td>Rural</td>\n",
       "    </tr>\n",
       "    <tr>\n",
       "      <th>1</th>\n",
       "      <td>Andhra Pradesh</td>\n",
       "      <td>30-06-2019</td>\n",
       "      <td>Monthly</td>\n",
       "      <td>3.05</td>\n",
       "      <td>11755881.0</td>\n",
       "      <td>42.05</td>\n",
       "      <td>Rural</td>\n",
       "    </tr>\n",
       "    <tr>\n",
       "      <th>2</th>\n",
       "      <td>Andhra Pradesh</td>\n",
       "      <td>31-07-2019</td>\n",
       "      <td>Monthly</td>\n",
       "      <td>3.75</td>\n",
       "      <td>12086707.0</td>\n",
       "      <td>43.50</td>\n",
       "      <td>Rural</td>\n",
       "    </tr>\n",
       "    <tr>\n",
       "      <th>3</th>\n",
       "      <td>Andhra Pradesh</td>\n",
       "      <td>31-08-2019</td>\n",
       "      <td>Monthly</td>\n",
       "      <td>3.32</td>\n",
       "      <td>12285693.0</td>\n",
       "      <td>43.97</td>\n",
       "      <td>Rural</td>\n",
       "    </tr>\n",
       "    <tr>\n",
       "      <th>4</th>\n",
       "      <td>Andhra Pradesh</td>\n",
       "      <td>30-09-2019</td>\n",
       "      <td>Monthly</td>\n",
       "      <td>5.17</td>\n",
       "      <td>12256762.0</td>\n",
       "      <td>44.68</td>\n",
       "      <td>Rural</td>\n",
       "    </tr>\n",
       "    <tr>\n",
       "      <th>...</th>\n",
       "      <td>...</td>\n",
       "      <td>...</td>\n",
       "      <td>...</td>\n",
       "      <td>...</td>\n",
       "      <td>...</td>\n",
       "      <td>...</td>\n",
       "      <td>...</td>\n",
       "    </tr>\n",
       "    <tr>\n",
       "      <th>749</th>\n",
       "      <td>West Bengal</td>\n",
       "      <td>29-02-2020</td>\n",
       "      <td>Monthly</td>\n",
       "      <td>7.55</td>\n",
       "      <td>10871168.0</td>\n",
       "      <td>44.09</td>\n",
       "      <td>Urban</td>\n",
       "    </tr>\n",
       "    <tr>\n",
       "      <th>750</th>\n",
       "      <td>West Bengal</td>\n",
       "      <td>31-03-2020</td>\n",
       "      <td>Monthly</td>\n",
       "      <td>6.67</td>\n",
       "      <td>10806105.0</td>\n",
       "      <td>43.34</td>\n",
       "      <td>Urban</td>\n",
       "    </tr>\n",
       "    <tr>\n",
       "      <th>751</th>\n",
       "      <td>West Bengal</td>\n",
       "      <td>30-04-2020</td>\n",
       "      <td>Monthly</td>\n",
       "      <td>15.63</td>\n",
       "      <td>9299466.0</td>\n",
       "      <td>41.20</td>\n",
       "      <td>Urban</td>\n",
       "    </tr>\n",
       "    <tr>\n",
       "      <th>752</th>\n",
       "      <td>West Bengal</td>\n",
       "      <td>31-05-2020</td>\n",
       "      <td>Monthly</td>\n",
       "      <td>15.22</td>\n",
       "      <td>9240903.0</td>\n",
       "      <td>40.67</td>\n",
       "      <td>Urban</td>\n",
       "    </tr>\n",
       "    <tr>\n",
       "      <th>753</th>\n",
       "      <td>West Bengal</td>\n",
       "      <td>30-06-2020</td>\n",
       "      <td>Monthly</td>\n",
       "      <td>9.86</td>\n",
       "      <td>9088931.0</td>\n",
       "      <td>37.57</td>\n",
       "      <td>Urban</td>\n",
       "    </tr>\n",
       "  </tbody>\n",
       "</table>\n",
       "<p>740 rows × 7 columns</p>\n",
       "</div>"
      ],
      "text/plain": [
       "             region         date frequency  Estimated_unemployment_rate  \\\n",
       "0    Andhra Pradesh   31-05-2019   Monthly                         3.65   \n",
       "1    Andhra Pradesh   30-06-2019   Monthly                         3.05   \n",
       "2    Andhra Pradesh   31-07-2019   Monthly                         3.75   \n",
       "3    Andhra Pradesh   31-08-2019   Monthly                         3.32   \n",
       "4    Andhra Pradesh   30-09-2019   Monthly                         5.17   \n",
       "..              ...          ...       ...                          ...   \n",
       "749     West Bengal   29-02-2020   Monthly                         7.55   \n",
       "750     West Bengal   31-03-2020   Monthly                         6.67   \n",
       "751     West Bengal   30-04-2020   Monthly                        15.63   \n",
       "752     West Bengal   31-05-2020   Monthly                        15.22   \n",
       "753     West Bengal   30-06-2020   Monthly                         9.86   \n",
       "\n",
       "     estimated_employed   Estimated_Labour_ Participation_Rate   area  \n",
       "0            11999139.0                                  43.24  Rural  \n",
       "1            11755881.0                                  42.05  Rural  \n",
       "2            12086707.0                                  43.50  Rural  \n",
       "3            12285693.0                                  43.97  Rural  \n",
       "4            12256762.0                                  44.68  Rural  \n",
       "..                  ...                                    ...    ...  \n",
       "749          10871168.0                                  44.09  Urban  \n",
       "750          10806105.0                                  43.34  Urban  \n",
       "751           9299466.0                                  41.20  Urban  \n",
       "752           9240903.0                                  40.67  Urban  \n",
       "753           9088931.0                                  37.57  Urban  \n",
       "\n",
       "[740 rows x 7 columns]"
      ]
     },
     "execution_count": 9,
     "metadata": {},
     "output_type": "execute_result"
    }
   ],
   "source": [
    "df.dropna(axis=0) #about column"
   ]
  },
  {
   "cell_type": "markdown",
   "id": "b4eadf2b",
   "metadata": {},
   "source": [
    "### CHECKING FOR DUPLICATE DATA"
   ]
  },
  {
   "cell_type": "code",
   "execution_count": 10,
   "id": "d97c8ea4",
   "metadata": {
    "scrolled": false
   },
   "outputs": [
    {
     "data": {
      "text/html": [
       "<div>\n",
       "<style scoped>\n",
       "    .dataframe tbody tr th:only-of-type {\n",
       "        vertical-align: middle;\n",
       "    }\n",
       "\n",
       "    .dataframe tbody tr th {\n",
       "        vertical-align: top;\n",
       "    }\n",
       "\n",
       "    .dataframe thead th {\n",
       "        text-align: right;\n",
       "    }\n",
       "</style>\n",
       "<table border=\"1\" class=\"dataframe\">\n",
       "  <thead>\n",
       "    <tr style=\"text-align: right;\">\n",
       "      <th></th>\n",
       "      <th>region</th>\n",
       "      <th>date</th>\n",
       "      <th>frequency</th>\n",
       "      <th>Estimated_unemployment_rate</th>\n",
       "      <th>estimated_employed</th>\n",
       "      <th>Estimated_Labour_ Participation_Rate</th>\n",
       "      <th>area</th>\n",
       "    </tr>\n",
       "  </thead>\n",
       "  <tbody>\n",
       "    <tr>\n",
       "      <th>0</th>\n",
       "      <td>Andhra Pradesh</td>\n",
       "      <td>31-05-2019</td>\n",
       "      <td>Monthly</td>\n",
       "      <td>3.65</td>\n",
       "      <td>11999139.0</td>\n",
       "      <td>43.24</td>\n",
       "      <td>Rural</td>\n",
       "    </tr>\n",
       "    <tr>\n",
       "      <th>1</th>\n",
       "      <td>Andhra Pradesh</td>\n",
       "      <td>30-06-2019</td>\n",
       "      <td>Monthly</td>\n",
       "      <td>3.05</td>\n",
       "      <td>11755881.0</td>\n",
       "      <td>42.05</td>\n",
       "      <td>Rural</td>\n",
       "    </tr>\n",
       "    <tr>\n",
       "      <th>2</th>\n",
       "      <td>Andhra Pradesh</td>\n",
       "      <td>31-07-2019</td>\n",
       "      <td>Monthly</td>\n",
       "      <td>3.75</td>\n",
       "      <td>12086707.0</td>\n",
       "      <td>43.50</td>\n",
       "      <td>Rural</td>\n",
       "    </tr>\n",
       "    <tr>\n",
       "      <th>3</th>\n",
       "      <td>Andhra Pradesh</td>\n",
       "      <td>31-08-2019</td>\n",
       "      <td>Monthly</td>\n",
       "      <td>3.32</td>\n",
       "      <td>12285693.0</td>\n",
       "      <td>43.97</td>\n",
       "      <td>Rural</td>\n",
       "    </tr>\n",
       "    <tr>\n",
       "      <th>4</th>\n",
       "      <td>Andhra Pradesh</td>\n",
       "      <td>30-09-2019</td>\n",
       "      <td>Monthly</td>\n",
       "      <td>5.17</td>\n",
       "      <td>12256762.0</td>\n",
       "      <td>44.68</td>\n",
       "      <td>Rural</td>\n",
       "    </tr>\n",
       "    <tr>\n",
       "      <th>...</th>\n",
       "      <td>...</td>\n",
       "      <td>...</td>\n",
       "      <td>...</td>\n",
       "      <td>...</td>\n",
       "      <td>...</td>\n",
       "      <td>...</td>\n",
       "      <td>...</td>\n",
       "    </tr>\n",
       "    <tr>\n",
       "      <th>749</th>\n",
       "      <td>West Bengal</td>\n",
       "      <td>29-02-2020</td>\n",
       "      <td>Monthly</td>\n",
       "      <td>7.55</td>\n",
       "      <td>10871168.0</td>\n",
       "      <td>44.09</td>\n",
       "      <td>Urban</td>\n",
       "    </tr>\n",
       "    <tr>\n",
       "      <th>750</th>\n",
       "      <td>West Bengal</td>\n",
       "      <td>31-03-2020</td>\n",
       "      <td>Monthly</td>\n",
       "      <td>6.67</td>\n",
       "      <td>10806105.0</td>\n",
       "      <td>43.34</td>\n",
       "      <td>Urban</td>\n",
       "    </tr>\n",
       "    <tr>\n",
       "      <th>751</th>\n",
       "      <td>West Bengal</td>\n",
       "      <td>30-04-2020</td>\n",
       "      <td>Monthly</td>\n",
       "      <td>15.63</td>\n",
       "      <td>9299466.0</td>\n",
       "      <td>41.20</td>\n",
       "      <td>Urban</td>\n",
       "    </tr>\n",
       "    <tr>\n",
       "      <th>752</th>\n",
       "      <td>West Bengal</td>\n",
       "      <td>31-05-2020</td>\n",
       "      <td>Monthly</td>\n",
       "      <td>15.22</td>\n",
       "      <td>9240903.0</td>\n",
       "      <td>40.67</td>\n",
       "      <td>Urban</td>\n",
       "    </tr>\n",
       "    <tr>\n",
       "      <th>753</th>\n",
       "      <td>West Bengal</td>\n",
       "      <td>30-06-2020</td>\n",
       "      <td>Monthly</td>\n",
       "      <td>9.86</td>\n",
       "      <td>9088931.0</td>\n",
       "      <td>37.57</td>\n",
       "      <td>Urban</td>\n",
       "    </tr>\n",
       "  </tbody>\n",
       "</table>\n",
       "<p>741 rows × 7 columns</p>\n",
       "</div>"
      ],
      "text/plain": [
       "             region         date frequency  Estimated_unemployment_rate  \\\n",
       "0    Andhra Pradesh   31-05-2019   Monthly                         3.65   \n",
       "1    Andhra Pradesh   30-06-2019   Monthly                         3.05   \n",
       "2    Andhra Pradesh   31-07-2019   Monthly                         3.75   \n",
       "3    Andhra Pradesh   31-08-2019   Monthly                         3.32   \n",
       "4    Andhra Pradesh   30-09-2019   Monthly                         5.17   \n",
       "..              ...          ...       ...                          ...   \n",
       "749     West Bengal   29-02-2020   Monthly                         7.55   \n",
       "750     West Bengal   31-03-2020   Monthly                         6.67   \n",
       "751     West Bengal   30-04-2020   Monthly                        15.63   \n",
       "752     West Bengal   31-05-2020   Monthly                        15.22   \n",
       "753     West Bengal   30-06-2020   Monthly                         9.86   \n",
       "\n",
       "     estimated_employed   Estimated_Labour_ Participation_Rate   area  \n",
       "0            11999139.0                                  43.24  Rural  \n",
       "1            11755881.0                                  42.05  Rural  \n",
       "2            12086707.0                                  43.50  Rural  \n",
       "3            12285693.0                                  43.97  Rural  \n",
       "4            12256762.0                                  44.68  Rural  \n",
       "..                  ...                                    ...    ...  \n",
       "749          10871168.0                                  44.09  Urban  \n",
       "750          10806105.0                                  43.34  Urban  \n",
       "751           9299466.0                                  41.20  Urban  \n",
       "752           9240903.0                                  40.67  Urban  \n",
       "753           9088931.0                                  37.57  Urban  \n",
       "\n",
       "[741 rows x 7 columns]"
      ]
     },
     "execution_count": 10,
     "metadata": {},
     "output_type": "execute_result"
    }
   ],
   "source": [
    "df.drop_duplicates()"
   ]
  },
  {
   "cell_type": "markdown",
   "id": "3042acda",
   "metadata": {},
   "source": [
    "### REGIONS WITH UNEMPLOYMENT RATE GREATER THAN 50%"
   ]
  },
  {
   "cell_type": "code",
   "execution_count": 11,
   "id": "66580028",
   "metadata": {},
   "outputs": [
    {
     "data": {
      "text/html": [
       "<div>\n",
       "<style scoped>\n",
       "    .dataframe tbody tr th:only-of-type {\n",
       "        vertical-align: middle;\n",
       "    }\n",
       "\n",
       "    .dataframe tbody tr th {\n",
       "        vertical-align: top;\n",
       "    }\n",
       "\n",
       "    .dataframe thead th {\n",
       "        text-align: right;\n",
       "    }\n",
       "</style>\n",
       "<table border=\"1\" class=\"dataframe\">\n",
       "  <thead>\n",
       "    <tr style=\"text-align: right;\">\n",
       "      <th></th>\n",
       "      <th>region</th>\n",
       "      <th>Estimated_unemployment_rate</th>\n",
       "    </tr>\n",
       "  </thead>\n",
       "  <tbody>\n",
       "    <tr>\n",
       "      <th>145</th>\n",
       "      <td>Jharkhand</td>\n",
       "      <td>55.10</td>\n",
       "    </tr>\n",
       "    <tr>\n",
       "      <th>242</th>\n",
       "      <td>Puducherry</td>\n",
       "      <td>74.51</td>\n",
       "    </tr>\n",
       "    <tr>\n",
       "      <th>287</th>\n",
       "      <td>Tamil Nadu</td>\n",
       "      <td>53.19</td>\n",
       "    </tr>\n",
       "    <tr>\n",
       "      <th>412</th>\n",
       "      <td>Bihar</td>\n",
       "      <td>58.77</td>\n",
       "    </tr>\n",
       "    <tr>\n",
       "      <th>507</th>\n",
       "      <td>Himachal Pradesh</td>\n",
       "      <td>50.00</td>\n",
       "    </tr>\n",
       "    <tr>\n",
       "      <th>530</th>\n",
       "      <td>Jharkhand</td>\n",
       "      <td>61.48</td>\n",
       "    </tr>\n",
       "    <tr>\n",
       "      <th>531</th>\n",
       "      <td>Jharkhand</td>\n",
       "      <td>70.17</td>\n",
       "    </tr>\n",
       "    <tr>\n",
       "      <th>627</th>\n",
       "      <td>Puducherry</td>\n",
       "      <td>76.74</td>\n",
       "    </tr>\n",
       "    <tr>\n",
       "      <th>628</th>\n",
       "      <td>Puducherry</td>\n",
       "      <td>75.00</td>\n",
       "    </tr>\n",
       "  </tbody>\n",
       "</table>\n",
       "</div>"
      ],
      "text/plain": [
       "               region  Estimated_unemployment_rate\n",
       "145         Jharkhand                        55.10\n",
       "242        Puducherry                        74.51\n",
       "287        Tamil Nadu                        53.19\n",
       "412             Bihar                        58.77\n",
       "507  Himachal Pradesh                        50.00\n",
       "530         Jharkhand                        61.48\n",
       "531         Jharkhand                        70.17\n",
       "627        Puducherry                        76.74\n",
       "628        Puducherry                        75.00"
      ]
     },
     "execution_count": 11,
     "metadata": {},
     "output_type": "execute_result"
    }
   ],
   "source": [
    "df[['region','Estimated_unemployment_rate']][df['Estimated_unemployment_rate']>=50]"
   ]
  },
  {
   "cell_type": "markdown",
   "id": "23141dcb",
   "metadata": {},
   "source": [
    "### HIGHEST MEAN UNEMPLOYMENT RATE"
   ]
  },
  {
   "cell_type": "code",
   "execution_count": 30,
   "id": "35c62da4",
   "metadata": {},
   "outputs": [
    {
     "data": {
      "text/plain": [
       "date\n",
       " 29-02-2020     9.964717\n",
       " 30-04-2020    23.641569\n",
       " 30-06-2019     9.303333\n",
       " 30-06-2020    11.903600\n",
       " 30-09-2019     9.051731\n",
       " 30-11-2019     9.868364\n",
       " 31-01-2020     9.950755\n",
       " 31-03-2020    10.700577\n",
       " 31-05-2019     8.874259\n",
       " 31-05-2020    24.875294\n",
       " 31-07-2019     9.033889\n",
       " 31-08-2019     9.637925\n",
       " 31-10-2019     9.900909\n",
       " 31-12-2019     9.497358\n",
       "Name: Estimated_unemployment_rate, dtype: float64"
      ]
     },
     "execution_count": 30,
     "metadata": {},
     "output_type": "execute_result"
    }
   ],
   "source": [
    "df.groupby('date')['Estimated_unemployment_rate'].mean()"
   ]
  },
  {
   "cell_type": "markdown",
   "id": "4feb4a6f",
   "metadata": {},
   "source": [
    "Highest unemployment rate is seen in year 2020 due to COVID-19"
   ]
  },
  {
   "cell_type": "markdown",
   "id": "602bb849",
   "metadata": {},
   "source": [
    "### GRAPHICAL REPRESENTION"
   ]
  },
  {
   "cell_type": "code",
   "execution_count": 28,
   "id": "4c2d734b",
   "metadata": {},
   "outputs": [
    {
     "name": "stdout",
     "output_type": "stream",
     "text": [
      "Barplot for Unemployment Rate vs Date:\n",
      "\n"
     ]
    },
    {
     "data": {
      "image/png": "[encoded data removed]",
      "text/plain": [
       "<Figure size 432x288 with 1 Axes>"
      ]
     },
     "metadata": {
      "needs_background": "light"
     },
     "output_type": "display_data"
    }
   ],
   "source": [
    "print(\"Barplot for Unemployment Rate vs Date:\\n\")\n",
    "ax=sn.barplot(x='date',y='Estimated_unemployment_rate',data=df)\n",
    "ax.set_xticklabels(ax.get_xticklabels(),fontsize=10,rotation=90)\n",
    "plt.title(\"Date VS Estimated unemployement rate\")\n",
    "plt.show()\n",
    "\n",
    "\n"
   ]
  },
  {
   "cell_type": "markdown",
   "id": "4cf4cc5f",
   "metadata": {},
   "source": [
    "### TOP 10 REGIONS WITH HIGHEST UNEMPLOYMENT RATE"
   ]
  },
  {
   "cell_type": "code",
   "execution_count": 14,
   "id": "5b91d65f",
   "metadata": {},
   "outputs": [],
   "source": [
    "top_ten=df.nlargest(10,'Estimated_unemployment_rate')[['region','Estimated_unemployment_rate']]"
   ]
  },
  {
   "cell_type": "code",
   "execution_count": 15,
   "id": "ce1c497c",
   "metadata": {},
   "outputs": [
    {
     "name": "stdout",
     "output_type": "stream",
     "text": [
      "               region  Estimated_unemployment_rate\n",
      "627        Puducherry                        76.74\n",
      "628        Puducherry                        75.00\n",
      "242        Puducherry                        74.51\n",
      "531         Jharkhand                        70.17\n",
      "530         Jharkhand                        61.48\n",
      "412             Bihar                        58.77\n",
      "145         Jharkhand                        55.10\n",
      "287        Tamil Nadu                        53.19\n",
      "507  Himachal Pradesh                        50.00\n",
      "38              Bihar                        47.26\n"
     ]
    }
   ],
   "source": [
    "print(top_ten)"
   ]
  },
  {
   "cell_type": "markdown",
   "id": "0bb97ed6",
   "metadata": {},
   "source": [
    "We can see puducherry unemployment_rate is high,because of covid-19"
   ]
  },
  {
   "cell_type": "code",
   "execution_count": 16,
   "id": "150b8559",
   "metadata": {},
   "outputs": [
    {
     "data": {
      "text/plain": [
       "<AxesSubplot:xlabel='Estimated_unemployment_rate', ylabel='region'>"
      ]
     },
     "execution_count": 16,
     "metadata": {},
     "output_type": "execute_result"
    },
    {
     "data": {
      "image/png": "[encoded data removed]",
      "text/plain": [
       "<Figure size 432x288 with 1 Axes>"
      ]
     },
     "metadata": {
      "needs_background": "light"
     },
     "output_type": "display_data"
    }
   ],
   "source": [
    "sn.barplot(x='Estimated_unemployment_rate',y='region',data=top_ten)"
   ]
  },
  {
   "cell_type": "markdown",
   "id": "c8bf73b3",
   "metadata": {},
   "source": [
    "### DISPLAYING THE AREA WITH HIGHEST UNEMPLOYMENT RATE"
   ]
  },
  {
   "cell_type": "code",
   "execution_count": 17,
   "id": "1f65d691",
   "metadata": {},
   "outputs": [
    {
     "data": {
      "text/plain": [
       "area\n",
       "Urban    13.166614\n",
       "Rural    10.324791\n",
       "Name: Estimated_unemployment_rate, dtype: float64"
      ]
     },
     "execution_count": 17,
     "metadata": {},
     "output_type": "execute_result"
    }
   ],
   "source": [
    "df.groupby('area')['Estimated_unemployment_rate'].mean().sort_values(ascending=False)"
   ]
  },
  {
   "cell_type": "code",
   "execution_count": 18,
   "id": "fb42d8f5",
   "metadata": {},
   "outputs": [
    {
     "data": {
      "image/png": "[encoded data removed]",
      "text/plain": [
       "<Figure size 432x288 with 1 Axes>"
      ]
     },
     "metadata": {
      "needs_background": "light"
     },
     "output_type": "display_data"
    }
   ],
   "source": [
    "sn.barplot(x='area',y='Estimated_unemployment_rate',data=df)\n",
    "plt.title('AREA VS UNEMPLOYMENT RATE')\n",
    "plt.show()\n",
    "     "
   ]
  },
  {
   "cell_type": "markdown",
   "id": "ba0d2f84",
   "metadata": {},
   "source": [
    "### DISPLAYING THE AREA WITH HIGHEST ESTIMATED EMPLOYED"
   ]
  },
  {
   "cell_type": "code",
   "execution_count": 19,
   "id": "75932905",
   "metadata": {},
   "outputs": [
    {
     "data": {
      "text/plain": [
       "area\n",
       "Rural    1.019285e+07\n",
       "Urban    4.388626e+06\n",
       "Name: estimated_employed, dtype: float64"
      ]
     },
     "execution_count": 19,
     "metadata": {},
     "output_type": "execute_result"
    }
   ],
   "source": [
    "df.groupby('area')['estimated_employed'].mean().sort_values(ascending=False)"
   ]
  },
  {
   "cell_type": "code",
   "execution_count": 20,
   "id": "a02b3121",
   "metadata": {},
   "outputs": [
    {
     "data": {
      "image/png": "[encoded data removed]",
      "text/plain": [
       "<Figure size 432x288 with 1 Axes>"
      ]
     },
     "metadata": {
      "needs_background": "light"
     },
     "output_type": "display_data"
    }
   ],
   "source": [
    "sn.barplot(x='estimated_employed',y='area',data=df)\n",
    "plt.title('AREA VS EMPLOYED RATE')\n",
    "plt.show()"
   ]
  },
  {
   "cell_type": "markdown",
   "id": "f59de517",
   "metadata": {},
   "source": [
    "### UNEMPLOYMENT RATE IN DESCENDING ORDER OVER STATES"
   ]
  },
  {
   "cell_type": "code",
   "execution_count": 21,
   "id": "54dec4c0",
   "metadata": {},
   "outputs": [
    {
     "data": {
      "text/plain": [
       "region\n",
       "Tripura             28.350357\n",
       "Haryana             26.283214\n",
       "Jharkhand           20.585000\n",
       "Bihar               18.918214\n",
       "Himachal Pradesh    18.540357\n",
       "Delhi               16.495357\n",
       "Jammu & Kashmir     16.188571\n",
       "Chandigarh          15.991667\n",
       "Rajasthan           14.058214\n",
       "Uttar Pradesh       12.551429\n",
       "Punjab              12.031071\n",
       "Puducherry          10.215000\n",
       "Kerala              10.123929\n",
       "Tamil Nadu           9.284286\n",
       "Goa                  9.274167\n",
       "Chhattisgarh         9.240357\n",
       "West Bengal          8.124643\n",
       "Telangana            7.737857\n",
       "Maharashtra          7.557500\n",
       "Andhra Pradesh       7.477143\n",
       "Madhya Pradesh       7.406429\n",
       "Sikkim               7.249412\n",
       "Karnataka            6.676071\n",
       "Gujarat              6.663929\n",
       "Uttarakhand          6.582963\n",
       "Assam                6.428077\n",
       "Odisha               5.657857\n",
       "Meghalaya            4.798889\n",
       "Name: Estimated_unemployment_rate, dtype: float64"
      ]
     },
     "execution_count": 21,
     "metadata": {},
     "output_type": "execute_result"
    }
   ],
   "source": [
    "df.groupby('region')['Estimated_unemployment_rate'].mean().sort_values(ascending=False)"
   ]
  },
  {
   "cell_type": "code",
   "execution_count": 27,
   "id": "097d36ae",
   "metadata": {
    "scrolled": true
   },
   "outputs": [
    {
     "data": {
      "image/png": "[encoded data removed]",
      "text/plain": [
       "<Figure size 432x288 with 1 Axes>"
      ]
     },
     "metadata": {
      "needs_background": "light"
     },
     "output_type": "display_data"
    }
   ],
   "source": [
    "ax=sn.barplot(x='region',y='Estimated_unemployment_rate',data=df)\n",
    "ax.set_xticklabels(ax.get_xticklabels(),fontsize=10,rotation=90)\n",
    "plt.title('REGION VS UNEMPLOYMENT RATE')\n",
    "plt.show()"
   ]
  },
  {
   "cell_type": "markdown",
   "id": "2cde96c0",
   "metadata": {},
   "source": [
    "### ESTIMATED EMPLOYED RATE OVER STATES"
   ]
  },
  {
   "cell_type": "code",
   "execution_count": 26,
   "id": "d79d43ca",
   "metadata": {},
   "outputs": [
    {
     "data": {
      "image/png": "[encoded data removed]",
      "text/plain": [
       "<Figure size 432x288 with 1 Axes>"
      ]
     },
     "metadata": {
      "needs_background": "light"
     },
     "output_type": "display_data"
    }
   ],
   "source": [
    "ax=sn.barplot(x='region',y='estimated_employed',data=df)\n",
    "ax.set_xticklabels(ax.get_xticklabels(),fontsize=10,rotation=90)\n",
    "plt.title('REGION VS ESTIMATED EMPLOYED')\n",
    "plt.show()"
   ]
  },
  {
   "cell_type": "code",
   "execution_count": null,
   "id": "d922e5b0",
   "metadata": {},
   "outputs": [],
   "source": []
  }
 ],
 "metadata": {
  "kernelspec": {
   "display_name": "Python 3",
   "language": "python",
   "name": "python3"
  },
  "language_info": {
   "codemirror_mode": {
    "name": "ipython",
    "version": 3
   },
   "file_extension": ".py",
   "mimetype": "text/x-python",
   "name": "python",
   "nbconvert_exporter": "python",
   "pygments_lexer": "ipython3",
   "version": "3.8.8"
  }
 },
 "nbformat": 4,
 "nbformat_minor": 5
}
