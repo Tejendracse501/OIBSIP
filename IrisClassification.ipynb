{
 "cells": [
  {
   "cell_type": "markdown",
   "id": "8cd6ff55",
   "metadata": {},
   "source": [
    "# IRIS FLOWER CLASSIFICATION"
   ]
  },
  {
   "cell_type": "raw",
   "id": "6851cffc",
   "metadata": {},
   "source": [
    "Iris flower has three species; setosa, versicolor, and virginica, they differ according to measurements such as petal width, petal length, sepal width and sepal length.Let's train a machine learning model from the iris data set so that it can learn from the measurements of the iris species and classify them.\n",
    "\n",
    "By using \"logistic regression\"(It is used for predicting the categorical dependent variable using a given set of independent variables.)"
   ]
  },
  {
   "cell_type": "markdown",
   "id": "e5eed9c0",
   "metadata": {},
   "source": [
    "IMPORTING ALL LIBRARIES"
   ]
  },
  {
   "cell_type": "code",
   "execution_count": 2,
   "id": "c79c8383",
   "metadata": {},
   "outputs": [],
   "source": [
    "import numpy as np\n",
    "import pandas as pd\n",
    "import matplotlib.pyplot as plt\n",
    "import seaborn as sn"
   ]
  },
  {
   "cell_type": "markdown",
   "id": "3e3b9955",
   "metadata": {},
   "source": [
    "LOAD IRIS DATA SET"
   ]
  },
  {
   "cell_type": "code",
   "execution_count": 3,
   "id": "6af808df",
   "metadata": {},
   "outputs": [
    {
     "name": "stdout",
     "output_type": "stream",
     "text": [
      "      Id  SepalLengthCm  SepalWidthCm  PetalLengthCm  PetalWidthCm  \\\n",
      "0      1            5.1           3.5            1.4           0.2   \n",
      "1      2            4.9           3.0            1.4           0.2   \n",
      "2      3            4.7           3.2            1.3           0.2   \n",
      "3      4            4.6           3.1            1.5           0.2   \n",
      "4      5            5.0           3.6            1.4           0.2   \n",
      "..   ...            ...           ...            ...           ...   \n",
      "145  146            6.7           3.0            5.2           2.3   \n",
      "146  147            6.3           2.5            5.0           1.9   \n",
      "147  148            6.5           3.0            5.2           2.0   \n",
      "148  149            6.2           3.4            5.4           2.3   \n",
      "149  150            5.9           3.0            5.1           1.8   \n",
      "\n",
      "            Species  \n",
      "0       Iris-setosa  \n",
      "1       Iris-setosa  \n",
      "2       Iris-setosa  \n",
      "3       Iris-setosa  \n",
      "4       Iris-setosa  \n",
      "..              ...  \n",
      "145  Iris-virginica  \n",
      "146  Iris-virginica  \n",
      "147  Iris-virginica  \n",
      "148  Iris-virginica  \n",
      "149  Iris-virginica  \n",
      "\n",
      "[150 rows x 6 columns]\n"
     ]
    }
   ],
   "source": [
    "df=pd.read_csv('Iris.csv')\n",
    "print(df)"
   ]
  },
  {
   "cell_type": "markdown",
   "id": "891a756d",
   "metadata": {},
   "source": [
    "PRITING 3 DIFFERENT SUB DATA FRAMES FOR EACH SPECIES"
   ]
  },
  {
   "cell_type": "code",
   "execution_count": 4,
   "id": "5dd74f3b",
   "metadata": {},
   "outputs": [
    {
     "name": "stdout",
     "output_type": "stream",
     "text": [
      "Iris flower data of species 'Iris-setosa':\n",
      "   Id  SepalLengthCm  SepalWidthCm  PetalLengthCm  PetalWidthCm      Species\n",
      "0   1            5.1           3.5            1.4           0.2  Iris-setosa\n",
      "1   2            4.9           3.0            1.4           0.2  Iris-setosa\n",
      "2   3            4.7           3.2            1.3           0.2  Iris-setosa\n",
      "3   4            4.6           3.1            1.5           0.2  Iris-setosa\n",
      "4   5            5.0           3.6            1.4           0.2  Iris-setosa\n"
     ]
    }
   ],
   "source": [
    "print(\"Iris flower data of species 'Iris-setosa':\")\n",
    "print(df.loc[df['Species'].values=='Iris-setosa'][:5])"
   ]
  },
  {
   "cell_type": "code",
   "execution_count": 5,
   "id": "cf24be8a",
   "metadata": {},
   "outputs": [
    {
     "name": "stdout",
     "output_type": "stream",
     "text": [
      "Iris flower data of species 'Iris-versicolor':\n",
      "    Id  SepalLengthCm  SepalWidthCm  PetalLengthCm  PetalWidthCm  \\\n",
      "50  51            7.0           3.2            4.7           1.4   \n",
      "51  52            6.4           3.2            4.5           1.5   \n",
      "52  53            6.9           3.1            4.9           1.5   \n",
      "53  54            5.5           2.3            4.0           1.3   \n",
      "54  55            6.5           2.8            4.6           1.5   \n",
      "\n",
      "            Species  \n",
      "50  Iris-versicolor  \n",
      "51  Iris-versicolor  \n",
      "52  Iris-versicolor  \n",
      "53  Iris-versicolor  \n",
      "54  Iris-versicolor  \n"
     ]
    }
   ],
   "source": [
    "print(\"Iris flower data of species 'Iris-versicolor':\")\n",
    "print(df.loc[df['Species'].values=='Iris-versicolor'][:5])"
   ]
  },
  {
   "cell_type": "code",
   "execution_count": 6,
   "id": "2a52ec04",
   "metadata": {},
   "outputs": [
    {
     "name": "stdout",
     "output_type": "stream",
     "text": [
      "Iris flower data of species 'Iris-virginica':\n",
      "      Id  SepalLengthCm  SepalWidthCm  PetalLengthCm  PetalWidthCm  \\\n",
      "100  101            6.3           3.3            6.0           2.5   \n",
      "101  102            5.8           2.7            5.1           1.9   \n",
      "102  103            7.1           3.0            5.9           2.1   \n",
      "103  104            6.3           2.9            5.6           1.8   \n",
      "104  105            6.5           3.0            5.8           2.2   \n",
      "\n",
      "            Species  \n",
      "100  Iris-virginica  \n",
      "101  Iris-virginica  \n",
      "102  Iris-virginica  \n",
      "103  Iris-virginica  \n",
      "104  Iris-virginica  \n"
     ]
    }
   ],
   "source": [
    "print(\"Iris flower data of species 'Iris-virginica':\")\n",
    "print(df.loc[df['Species'].values=='Iris-virginica'][:5])"
   ]
  },
  {
   "cell_type": "markdown",
   "id": "29dabac0",
   "metadata": {},
   "source": [
    "ANALYSING THE STATISTICS OF DATA SET"
   ]
  },
  {
   "cell_type": "code",
   "execution_count": 7,
   "id": "7b6f10ef",
   "metadata": {},
   "outputs": [
    {
     "data": {
      "text/html": [
       "<div>\n",
       "<style scoped>\n",
       "    .dataframe tbody tr th:only-of-type {\n",
       "        vertical-align: middle;\n",
       "    }\n",
       "\n",
       "    .dataframe tbody tr th {\n",
       "        vertical-align: top;\n",
       "    }\n",
       "\n",
       "    .dataframe thead th {\n",
       "        text-align: right;\n",
       "    }\n",
       "</style>\n",
       "<table border=\"1\" class=\"dataframe\">\n",
       "  <thead>\n",
       "    <tr style=\"text-align: right;\">\n",
       "      <th></th>\n",
       "      <th>Id</th>\n",
       "      <th>SepalLengthCm</th>\n",
       "      <th>SepalWidthCm</th>\n",
       "      <th>PetalLengthCm</th>\n",
       "      <th>PetalWidthCm</th>\n",
       "    </tr>\n",
       "  </thead>\n",
       "  <tbody>\n",
       "    <tr>\n",
       "      <th>count</th>\n",
       "      <td>150.000000</td>\n",
       "      <td>150.000000</td>\n",
       "      <td>150.000000</td>\n",
       "      <td>150.000000</td>\n",
       "      <td>150.000000</td>\n",
       "    </tr>\n",
       "    <tr>\n",
       "      <th>mean</th>\n",
       "      <td>75.500000</td>\n",
       "      <td>5.843333</td>\n",
       "      <td>3.054000</td>\n",
       "      <td>3.758667</td>\n",
       "      <td>1.198667</td>\n",
       "    </tr>\n",
       "    <tr>\n",
       "      <th>std</th>\n",
       "      <td>43.445368</td>\n",
       "      <td>0.828066</td>\n",
       "      <td>0.433594</td>\n",
       "      <td>1.764420</td>\n",
       "      <td>0.763161</td>\n",
       "    </tr>\n",
       "    <tr>\n",
       "      <th>min</th>\n",
       "      <td>1.000000</td>\n",
       "      <td>4.300000</td>\n",
       "      <td>2.000000</td>\n",
       "      <td>1.000000</td>\n",
       "      <td>0.100000</td>\n",
       "    </tr>\n",
       "    <tr>\n",
       "      <th>25%</th>\n",
       "      <td>38.250000</td>\n",
       "      <td>5.100000</td>\n",
       "      <td>2.800000</td>\n",
       "      <td>1.600000</td>\n",
       "      <td>0.300000</td>\n",
       "    </tr>\n",
       "    <tr>\n",
       "      <th>50%</th>\n",
       "      <td>75.500000</td>\n",
       "      <td>5.800000</td>\n",
       "      <td>3.000000</td>\n",
       "      <td>4.350000</td>\n",
       "      <td>1.300000</td>\n",
       "    </tr>\n",
       "    <tr>\n",
       "      <th>75%</th>\n",
       "      <td>112.750000</td>\n",
       "      <td>6.400000</td>\n",
       "      <td>3.300000</td>\n",
       "      <td>5.100000</td>\n",
       "      <td>1.800000</td>\n",
       "    </tr>\n",
       "    <tr>\n",
       "      <th>max</th>\n",
       "      <td>150.000000</td>\n",
       "      <td>7.900000</td>\n",
       "      <td>4.400000</td>\n",
       "      <td>6.900000</td>\n",
       "      <td>2.500000</td>\n",
       "    </tr>\n",
       "  </tbody>\n",
       "</table>\n",
       "</div>"
      ],
      "text/plain": [
       "               Id  SepalLengthCm  SepalWidthCm  PetalLengthCm  PetalWidthCm\n",
       "count  150.000000     150.000000    150.000000     150.000000    150.000000\n",
       "mean    75.500000       5.843333      3.054000       3.758667      1.198667\n",
       "std     43.445368       0.828066      0.433594       1.764420      0.763161\n",
       "min      1.000000       4.300000      2.000000       1.000000      0.100000\n",
       "25%     38.250000       5.100000      2.800000       1.600000      0.300000\n",
       "50%     75.500000       5.800000      3.000000       4.350000      1.300000\n",
       "75%    112.750000       6.400000      3.300000       5.100000      1.800000\n",
       "max    150.000000       7.900000      4.400000       6.900000      2.500000"
      ]
     },
     "execution_count": 7,
     "metadata": {},
     "output_type": "execute_result"
    }
   ],
   "source": [
    "df.describe()"
   ]
  },
  {
   "cell_type": "markdown",
   "id": "3251468b",
   "metadata": {},
   "source": [
    "CHECKING FOR THE MISSING VALUES IN DATA SET"
   ]
  },
  {
   "cell_type": "code",
   "execution_count": 8,
   "id": "c7dd83cb",
   "metadata": {},
   "outputs": [
    {
     "data": {
      "text/plain": [
       "False"
      ]
     },
     "execution_count": 8,
     "metadata": {},
     "output_type": "execute_result"
    }
   ],
   "source": [
    "df.isnull().values.any() #GET False if no missing values"
   ]
  },
  {
   "cell_type": "markdown",
   "id": "84410d6c",
   "metadata": {},
   "source": [
    "CHECKING FOR DUPLICATE VALUES IN THE DATA SET"
   ]
  },
  {
   "cell_type": "code",
   "execution_count": 9,
   "id": "ae7e61d9",
   "metadata": {},
   "outputs": [
    {
     "data": {
      "text/plain": [
       "False"
      ]
     },
     "execution_count": 9,
     "metadata": {},
     "output_type": "execute_result"
    }
   ],
   "source": [
    "df.isnull().values.any()"
   ]
  },
  {
   "cell_type": "markdown",
   "id": "ec5e2cd6",
   "metadata": {},
   "source": [
    "SEPARTING INPUT AND OUTPUT COLUMNS"
   ]
  },
  {
   "cell_type": "code",
   "execution_count": 19,
   "id": "a7fc7c8b",
   "metadata": {},
   "outputs": [
    {
     "name": "stdout",
     "output_type": "stream",
     "text": [
      "[[1 5.1 3.5 1.4 0.2]\n",
      " [2 4.9 3.0 1.4 0.2]\n",
      " [3 4.7 3.2 1.3 0.2]\n",
      " [4 4.6 3.1 1.5 0.2]\n",
      " [5 5.0 3.6 1.4 0.2]\n",
      " [6 5.4 3.9 1.7 0.4]\n",
      " [7 4.6 3.4 1.4 0.3]\n",
      " [8 5.0 3.4 1.5 0.2]\n",
      " [9 4.4 2.9 1.4 0.2]\n",
      " [10 4.9 3.1 1.5 0.1]\n",
      " [11 5.4 3.7 1.5 0.2]\n",
      " [12 4.8 3.4 1.6 0.2]\n",
      " [13 4.8 3.0 1.4 0.1]\n",
      " [14 4.3 3.0 1.1 0.1]\n",
      " [15 5.8 4.0 1.2 0.2]\n",
      " [16 5.7 4.4 1.5 0.4]\n",
      " [17 5.4 3.9 1.3 0.4]\n",
      " [18 5.1 3.5 1.4 0.3]\n",
      " [19 5.7 3.8 1.7 0.3]\n",
      " [20 5.1 3.8 1.5 0.3]\n",
      " [21 5.4 3.4 1.7 0.2]\n",
      " [22 5.1 3.7 1.5 0.4]\n",
      " [23 4.6 3.6 1.0 0.2]\n",
      " [24 5.1 3.3 1.7 0.5]\n",
      " [25 4.8 3.4 1.9 0.2]\n",
      " [26 5.0 3.0 1.6 0.2]\n",
      " [27 5.0 3.4 1.6 0.4]\n",
      " [28 5.2 3.5 1.5 0.2]\n",
      " [29 5.2 3.4 1.4 0.2]\n",
      " [30 4.7 3.2 1.6 0.2]\n",
      " [31 4.8 3.1 1.6 0.2]\n",
      " [32 5.4 3.4 1.5 0.4]\n",
      " [33 5.2 4.1 1.5 0.1]\n",
      " [34 5.5 4.2 1.4 0.2]\n",
      " [35 4.9 3.1 1.5 0.1]\n",
      " [36 5.0 3.2 1.2 0.2]\n",
      " [37 5.5 3.5 1.3 0.2]\n",
      " [38 4.9 3.1 1.5 0.1]\n",
      " [39 4.4 3.0 1.3 0.2]\n",
      " [40 5.1 3.4 1.5 0.2]\n",
      " [41 5.0 3.5 1.3 0.3]\n",
      " [42 4.5 2.3 1.3 0.3]\n",
      " [43 4.4 3.2 1.3 0.2]\n",
      " [44 5.0 3.5 1.6 0.6]\n",
      " [45 5.1 3.8 1.9 0.4]\n",
      " [46 4.8 3.0 1.4 0.3]\n",
      " [47 5.1 3.8 1.6 0.2]\n",
      " [48 4.6 3.2 1.4 0.2]\n",
      " [49 5.3 3.7 1.5 0.2]\n",
      " [50 5.0 3.3 1.4 0.2]\n",
      " [51 7.0 3.2 4.7 1.4]\n",
      " [52 6.4 3.2 4.5 1.5]\n",
      " [53 6.9 3.1 4.9 1.5]\n",
      " [54 5.5 2.3 4.0 1.3]\n",
      " [55 6.5 2.8 4.6 1.5]\n",
      " [56 5.7 2.8 4.5 1.3]\n",
      " [57 6.3 3.3 4.7 1.6]\n",
      " [58 4.9 2.4 3.3 1.0]\n",
      " [59 6.6 2.9 4.6 1.3]\n",
      " [60 5.2 2.7 3.9 1.4]\n",
      " [61 5.0 2.0 3.5 1.0]\n",
      " [62 5.9 3.0 4.2 1.5]\n",
      " [63 6.0 2.2 4.0 1.0]\n",
      " [64 6.1 2.9 4.7 1.4]\n",
      " [65 5.6 2.9 3.6 1.3]\n",
      " [66 6.7 3.1 4.4 1.4]\n",
      " [67 5.6 3.0 4.5 1.5]\n",
      " [68 5.8 2.7 4.1 1.0]\n",
      " [69 6.2 2.2 4.5 1.5]\n",
      " [70 5.6 2.5 3.9 1.1]\n",
      " [71 5.9 3.2 4.8 1.8]\n",
      " [72 6.1 2.8 4.0 1.3]\n",
      " [73 6.3 2.5 4.9 1.5]\n",
      " [74 6.1 2.8 4.7 1.2]\n",
      " [75 6.4 2.9 4.3 1.3]\n",
      " [76 6.6 3.0 4.4 1.4]\n",
      " [77 6.8 2.8 4.8 1.4]\n",
      " [78 6.7 3.0 5.0 1.7]\n",
      " [79 6.0 2.9 4.5 1.5]\n",
      " [80 5.7 2.6 3.5 1.0]\n",
      " [81 5.5 2.4 3.8 1.1]\n",
      " [82 5.5 2.4 3.7 1.0]\n",
      " [83 5.8 2.7 3.9 1.2]\n",
      " [84 6.0 2.7 5.1 1.6]\n",
      " [85 5.4 3.0 4.5 1.5]\n",
      " [86 6.0 3.4 4.5 1.6]\n",
      " [87 6.7 3.1 4.7 1.5]\n",
      " [88 6.3 2.3 4.4 1.3]\n",
      " [89 5.6 3.0 4.1 1.3]\n",
      " [90 5.5 2.5 4.0 1.3]\n",
      " [91 5.5 2.6 4.4 1.2]\n",
      " [92 6.1 3.0 4.6 1.4]\n",
      " [93 5.8 2.6 4.0 1.2]\n",
      " [94 5.0 2.3 3.3 1.0]\n",
      " [95 5.6 2.7 4.2 1.3]\n",
      " [96 5.7 3.0 4.2 1.2]\n",
      " [97 5.7 2.9 4.2 1.3]\n",
      " [98 6.2 2.9 4.3 1.3]\n",
      " [99 5.1 2.5 3.0 1.1]\n",
      " [100 5.7 2.8 4.1 1.3]\n",
      " [101 6.3 3.3 6.0 2.5]\n",
      " [102 5.8 2.7 5.1 1.9]\n",
      " [103 7.1 3.0 5.9 2.1]\n",
      " [104 6.3 2.9 5.6 1.8]\n",
      " [105 6.5 3.0 5.8 2.2]\n",
      " [106 7.6 3.0 6.6 2.1]\n",
      " [107 4.9 2.5 4.5 1.7]\n",
      " [108 7.3 2.9 6.3 1.8]\n",
      " [109 6.7 2.5 5.8 1.8]\n",
      " [110 7.2 3.6 6.1 2.5]\n",
      " [111 6.5 3.2 5.1 2.0]\n",
      " [112 6.4 2.7 5.3 1.9]\n",
      " [113 6.8 3.0 5.5 2.1]\n",
      " [114 5.7 2.5 5.0 2.0]\n",
      " [115 5.8 2.8 5.1 2.4]\n",
      " [116 6.4 3.2 5.3 2.3]\n",
      " [117 6.5 3.0 5.5 1.8]\n",
      " [118 7.7 3.8 6.7 2.2]\n",
      " [119 7.7 2.6 6.9 2.3]\n",
      " [120 6.0 2.2 5.0 1.5]\n",
      " [121 6.9 3.2 5.7 2.3]\n",
      " [122 5.6 2.8 4.9 2.0]\n",
      " [123 7.7 2.8 6.7 2.0]\n",
      " [124 6.3 2.7 4.9 1.8]\n",
      " [125 6.7 3.3 5.7 2.1]\n",
      " [126 7.2 3.2 6.0 1.8]\n",
      " [127 6.2 2.8 4.8 1.8]\n",
      " [128 6.1 3.0 4.9 1.8]\n",
      " [129 6.4 2.8 5.6 2.1]\n",
      " [130 7.2 3.0 5.8 1.6]\n",
      " [131 7.4 2.8 6.1 1.9]\n",
      " [132 7.9 3.8 6.4 2.0]\n",
      " [133 6.4 2.8 5.6 2.2]\n",
      " [134 6.3 2.8 5.1 1.5]\n",
      " [135 6.1 2.6 5.6 1.4]\n",
      " [136 7.7 3.0 6.1 2.3]\n",
      " [137 6.3 3.4 5.6 2.4]\n",
      " [138 6.4 3.1 5.5 1.8]\n",
      " [139 6.0 3.0 4.8 1.8]\n",
      " [140 6.9 3.1 5.4 2.1]\n",
      " [141 6.7 3.1 5.6 2.4]\n",
      " [142 6.9 3.1 5.1 2.3]\n",
      " [143 5.8 2.7 5.1 1.9]\n",
      " [144 6.8 3.2 5.9 2.3]\n",
      " [145 6.7 3.3 5.7 2.5]\n",
      " [146 6.7 3.0 5.2 2.3]\n",
      " [147 6.3 2.5 5.0 1.9]\n",
      " [148 6.5 3.0 5.2 2.0]\n",
      " [149 6.2 3.4 5.4 2.3]\n",
      " [150 5.9 3.0 5.1 1.8]]\n"
     ]
    }
   ],
   "source": [
    "data=df.values #data set shape(150,6)\n",
    "x=data[:,0:5] #x is numpy array of input(all columns except species) bcoz, we find Species from input through the model\n",
    "y=data[:,5] #y is numpy array of output(Species)\n",
    "print(x)"
   ]
  },
  {
   "cell_type": "raw",
   "id": "176b3fc0",
   "metadata": {},
   "source": [
    "x has sepal length, sepal width, petal width, and petal length\n",
    "y has Species of iris corresponding to the row of x numpy array"
   ]
  },
  {
   "cell_type": "code",
   "execution_count": 20,
   "id": "fee89229",
   "metadata": {},
   "outputs": [
    {
     "name": "stdout",
     "output_type": "stream",
     "text": [
      "['Iris-setosa' 'Iris-setosa' 'Iris-setosa' 'Iris-setosa' 'Iris-setosa'\n",
      " 'Iris-setosa' 'Iris-setosa' 'Iris-setosa' 'Iris-setosa' 'Iris-setosa'\n",
      " 'Iris-setosa' 'Iris-setosa' 'Iris-setosa' 'Iris-setosa' 'Iris-setosa'\n",
      " 'Iris-setosa' 'Iris-setosa' 'Iris-setosa' 'Iris-setosa' 'Iris-setosa'\n",
      " 'Iris-setosa' 'Iris-setosa' 'Iris-setosa' 'Iris-setosa' 'Iris-setosa'\n",
      " 'Iris-setosa' 'Iris-setosa' 'Iris-setosa' 'Iris-setosa' 'Iris-setosa'\n",
      " 'Iris-setosa' 'Iris-setosa' 'Iris-setosa' 'Iris-setosa' 'Iris-setosa'\n",
      " 'Iris-setosa' 'Iris-setosa' 'Iris-setosa' 'Iris-setosa' 'Iris-setosa'\n",
      " 'Iris-setosa' 'Iris-setosa' 'Iris-setosa' 'Iris-setosa' 'Iris-setosa'\n",
      " 'Iris-setosa' 'Iris-setosa' 'Iris-setosa' 'Iris-setosa' 'Iris-setosa'\n",
      " 'Iris-versicolor' 'Iris-versicolor' 'Iris-versicolor' 'Iris-versicolor'\n",
      " 'Iris-versicolor' 'Iris-versicolor' 'Iris-versicolor' 'Iris-versicolor'\n",
      " 'Iris-versicolor' 'Iris-versicolor' 'Iris-versicolor' 'Iris-versicolor'\n",
      " 'Iris-versicolor' 'Iris-versicolor' 'Iris-versicolor' 'Iris-versicolor'\n",
      " 'Iris-versicolor' 'Iris-versicolor' 'Iris-versicolor' 'Iris-versicolor'\n",
      " 'Iris-versicolor' 'Iris-versicolor' 'Iris-versicolor' 'Iris-versicolor'\n",
      " 'Iris-versicolor' 'Iris-versicolor' 'Iris-versicolor' 'Iris-versicolor'\n",
      " 'Iris-versicolor' 'Iris-versicolor' 'Iris-versicolor' 'Iris-versicolor'\n",
      " 'Iris-versicolor' 'Iris-versicolor' 'Iris-versicolor' 'Iris-versicolor'\n",
      " 'Iris-versicolor' 'Iris-versicolor' 'Iris-versicolor' 'Iris-versicolor'\n",
      " 'Iris-versicolor' 'Iris-versicolor' 'Iris-versicolor' 'Iris-versicolor'\n",
      " 'Iris-versicolor' 'Iris-versicolor' 'Iris-versicolor' 'Iris-versicolor'\n",
      " 'Iris-versicolor' 'Iris-versicolor' 'Iris-virginica' 'Iris-virginica'\n",
      " 'Iris-virginica' 'Iris-virginica' 'Iris-virginica' 'Iris-virginica'\n",
      " 'Iris-virginica' 'Iris-virginica' 'Iris-virginica' 'Iris-virginica'\n",
      " 'Iris-virginica' 'Iris-virginica' 'Iris-virginica' 'Iris-virginica'\n",
      " 'Iris-virginica' 'Iris-virginica' 'Iris-virginica' 'Iris-virginica'\n",
      " 'Iris-virginica' 'Iris-virginica' 'Iris-virginica' 'Iris-virginica'\n",
      " 'Iris-virginica' 'Iris-virginica' 'Iris-virginica' 'Iris-virginica'\n",
      " 'Iris-virginica' 'Iris-virginica' 'Iris-virginica' 'Iris-virginica'\n",
      " 'Iris-virginica' 'Iris-virginica' 'Iris-virginica' 'Iris-virginica'\n",
      " 'Iris-virginica' 'Iris-virginica' 'Iris-virginica' 'Iris-virginica'\n",
      " 'Iris-virginica' 'Iris-virginica' 'Iris-virginica' 'Iris-virginica'\n",
      " 'Iris-virginica' 'Iris-virginica' 'Iris-virginica' 'Iris-virginica'\n",
      " 'Iris-virginica' 'Iris-virginica' 'Iris-virginica' 'Iris-virginica']\n"
     ]
    }
   ],
   "source": [
    "print(y)"
   ]
  },
  {
   "cell_type": "markdown",
   "id": "1b534553",
   "metadata": {},
   "source": [
    "SEPARTING TRAINING AND TESTING DATA "
   ]
  },
  {
   "cell_type": "code",
   "execution_count": 30,
   "id": "0b825dcf",
   "metadata": {},
   "outputs": [
    {
     "name": "stdout",
     "output_type": "stream",
     "text": [
      "Input data during training:\n",
      "[[144 6.8 3.2 5.9 2.3]\n",
      " [112 6.4 2.7 5.3 1.9]\n",
      " [90 5.5 2.5 4.0 1.3]\n",
      " [44 5.0 3.5 1.6 0.6]\n",
      " [78 6.7 3.0 5.0 1.7]\n",
      " [91 5.5 2.6 4.4 1.2]\n",
      " [54 5.5 2.3 4.0 1.3]\n",
      " [17 5.4 3.9 1.3 0.4]\n",
      " [115 5.8 2.8 5.1 2.4]\n",
      " [60 5.2 2.7 3.9 1.4]\n",
      " [147 6.3 2.5 5.0 1.9]\n",
      " [72 6.1 2.8 4.0 1.3]\n",
      " [128 6.1 3.0 4.9 1.8]\n",
      " [89 5.6 3.0 4.1 1.3]\n",
      " [32 5.4 3.4 1.5 0.4]\n",
      " [25 4.8 3.4 1.9 0.2]\n",
      " [42 4.5 2.3 1.3 0.3]\n",
      " [53 6.9 3.1 4.9 1.5]\n",
      " [143 5.8 2.7 5.1 1.9]\n",
      " [82 5.5 2.4 3.7 1.0]\n",
      " [127 6.2 2.8 4.8 1.8]\n",
      " [51 7.0 3.2 4.7 1.4]\n",
      " [18 5.1 3.5 1.4 0.3]\n",
      " [30 4.7 3.2 1.6 0.2]\n",
      " [66 6.7 3.1 4.4 1.4]\n",
      " [136 7.7 3.0 6.1 2.3]\n",
      " [94 5.0 2.3 3.3 1.0]\n",
      " [41 5.0 3.5 1.3 0.3]\n",
      " [45 5.1 3.8 1.9 0.4]\n",
      " [5 5.0 3.6 1.4 0.2]\n",
      " [75 6.4 2.9 4.3 1.3]\n",
      " [145 6.7 3.3 5.7 2.5]\n",
      " [19 5.7 3.8 1.7 0.3]\n",
      " [95 5.6 2.7 4.2 1.3]\n",
      " [6 5.4 3.9 1.7 0.4]\n",
      " [46 4.8 3.0 1.4 0.3]\n",
      " [22 5.1 3.7 1.5 0.4]\n",
      " [114 5.7 2.5 5.0 2.0]\n",
      " [26 5.0 3.0 1.6 0.2]\n",
      " [24 5.1 3.3 1.7 0.5]\n",
      " [47 5.1 3.8 1.6 0.2]\n",
      " [71 5.9 3.2 4.8 1.8]\n",
      " [68 5.8 2.7 4.1 1.0]\n",
      " [62 5.9 3.0 4.2 1.5]\n",
      " [69 6.2 2.2 4.5 1.5]\n",
      " [23 4.6 3.6 1.0 0.2]\n",
      " [65 5.6 2.9 3.6 1.3]\n",
      " [131 7.4 2.8 6.1 1.9]\n",
      " [104 6.3 2.9 5.6 1.8]\n",
      " [10 4.9 3.1 1.5 0.1]\n",
      " [8 5.0 3.4 1.5 0.2]\n",
      " [111 6.5 3.2 5.1 2.0]\n",
      " [149 6.2 3.4 5.4 2.3]\n",
      " [48 4.6 3.2 1.4 0.2]\n",
      " [110 7.2 3.6 6.1 2.5]\n",
      " [40 5.1 3.4 1.5 0.2]\n",
      " [15 5.8 4.0 1.2 0.2]\n",
      " [121 6.9 3.2 5.7 2.3]\n",
      " [38 4.9 3.1 1.5 0.1]\n",
      " [120 6.0 2.2 5.0 1.5]\n",
      " [55 6.5 2.8 4.6 1.5]\n",
      " [39 4.4 3.0 1.3 0.2]\n",
      " [148 6.5 3.0 5.2 2.0]\n",
      " [2 4.9 3.0 1.4 0.2]\n",
      " [9 4.4 2.9 1.4 0.2]\n",
      " [122 5.6 2.8 4.9 2.0]\n",
      " [126 7.2 3.2 6.0 1.8]\n",
      " [108 7.3 2.9 6.3 1.8]\n",
      " [116 6.4 3.2 5.3 2.3]\n",
      " [103 7.1 3.0 5.9 2.1]\n",
      " [1 5.1 3.5 1.4 0.2]\n",
      " [83 5.8 2.7 3.9 1.2]\n",
      " [135 6.1 2.6 5.6 1.4]\n",
      " [123 7.7 2.8 6.7 2.0]\n",
      " [102 5.8 2.7 5.1 1.9]\n",
      " [97 5.7 2.9 4.2 1.3]\n",
      " [67 5.6 3.0 4.5 1.5]\n",
      " [88 6.3 2.3 4.4 1.3]\n",
      " [133 6.4 2.8 5.6 2.2]\n",
      " [142 6.9 3.1 5.1 2.3]\n",
      " [33 5.2 4.1 1.5 0.1]\n",
      " [98 6.2 2.9 4.3 1.3]\n",
      " [119 7.7 2.6 6.9 2.3]\n",
      " [64 6.1 2.9 4.7 1.4]\n",
      " [101 6.3 3.3 6.0 2.5]\n",
      " [20 5.1 3.8 1.5 0.3]\n",
      " [84 6.0 2.7 5.1 1.6]\n",
      " [140 6.9 3.1 5.4 2.1]\n",
      " [70 5.6 2.5 3.9 1.1]\n",
      " [100 5.7 2.8 4.1 1.3]\n",
      " [86 6.0 3.4 4.5 1.6]\n",
      " [106 7.6 3.0 6.6 2.1]\n",
      " [85 5.4 3.0 4.5 1.5]\n",
      " [125 6.7 3.3 5.7 2.1]\n",
      " [34 5.5 4.2 1.4 0.2]\n",
      " [138 6.4 3.1 5.5 1.8]\n",
      " [36 5.0 3.2 1.2 0.2]\n",
      " [11 5.4 3.7 1.5 0.2]\n",
      " [113 6.8 3.0 5.5 2.1]\n",
      " [99 5.1 2.5 3.0 1.1]\n",
      " [105 6.5 3.0 5.8 2.2]\n",
      " [109 6.7 2.5 5.8 1.8]\n",
      " [77 6.8 2.8 4.8 1.4]\n",
      " [92 6.1 3.0 4.6 1.4]\n",
      " [7 4.6 3.4 1.4 0.3]\n",
      " [74 6.1 2.8 4.7 1.2]\n",
      " [96 5.7 3.0 4.2 1.2]\n",
      " [49 5.3 3.7 1.5 0.2]\n",
      " [29 5.2 3.4 1.4 0.2]\n",
      " [137 6.3 3.4 5.6 2.4]\n",
      " [3 4.7 3.2 1.3 0.2]\n",
      " [141 6.7 3.1 5.6 2.4]\n",
      " [61 5.0 2.0 3.5 1.0]\n",
      " [37 5.5 3.5 1.3 0.2]\n",
      " [81 5.5 2.4 3.8 1.1]\n",
      " [52 6.4 3.2 4.5 1.5]\n",
      " [129 6.4 2.8 5.6 2.1]\n",
      " [63 6.0 2.2 4.0 1.0]\n",
      " [14 4.3 3.0 1.1 0.1]\n",
      " [130 7.2 3.0 5.8 1.6]]\n"
     ]
    }
   ],
   "source": [
    "from sklearn.model_selection import train_test_split\n",
    "x_train,x_test,y_train,y_test=train_test_split(x,y,test_size=0.2)\n",
    "print(\"Input data during training:\")\n",
    "print(x_train) #train data as we x is for input(measurements) and y is for output(species)"
   ]
  },
  {
   "cell_type": "code",
   "execution_count": 29,
   "id": "394d6400",
   "metadata": {},
   "outputs": [
    {
     "name": "stdout",
     "output_type": "stream",
     "text": [
      "Output of x_train during training:\n",
      "['Iris-virginica' 'Iris-setosa' 'Iris-virginica' 'Iris-setosa'\n",
      " 'Iris-versicolor' 'Iris-virginica' 'Iris-versicolor' 'Iris-versicolor'\n",
      " 'Iris-setosa' 'Iris-virginica' 'Iris-virginica' 'Iris-setosa'\n",
      " 'Iris-versicolor' 'Iris-virginica' 'Iris-virginica' 'Iris-setosa'\n",
      " 'Iris-setosa' 'Iris-versicolor' 'Iris-virginica' 'Iris-versicolor'\n",
      " 'Iris-virginica' 'Iris-setosa' 'Iris-virginica' 'Iris-virginica'\n",
      " 'Iris-virginica' 'Iris-setosa' 'Iris-virginica' 'Iris-setosa'\n",
      " 'Iris-setosa' 'Iris-setosa' 'Iris-setosa' 'Iris-versicolor'\n",
      " 'Iris-virginica' 'Iris-virginica' 'Iris-setosa' 'Iris-virginica'\n",
      " 'Iris-virginica' 'Iris-versicolor' 'Iris-setosa' 'Iris-versicolor'\n",
      " 'Iris-virginica' 'Iris-versicolor' 'Iris-setosa' 'Iris-virginica'\n",
      " 'Iris-versicolor' 'Iris-setosa' 'Iris-virginica' 'Iris-versicolor'\n",
      " 'Iris-versicolor' 'Iris-virginica' 'Iris-setosa' 'Iris-virginica'\n",
      " 'Iris-setosa' 'Iris-versicolor' 'Iris-virginica' 'Iris-virginica'\n",
      " 'Iris-versicolor' 'Iris-virginica' 'Iris-versicolor' 'Iris-setosa'\n",
      " 'Iris-virginica' 'Iris-versicolor' 'Iris-versicolor' 'Iris-setosa'\n",
      " 'Iris-virginica' 'Iris-virginica' 'Iris-versicolor' 'Iris-versicolor'\n",
      " 'Iris-setosa' 'Iris-versicolor' 'Iris-setosa' 'Iris-versicolor'\n",
      " 'Iris-setosa' 'Iris-versicolor' 'Iris-virginica' 'Iris-versicolor'\n",
      " 'Iris-versicolor' 'Iris-setosa' 'Iris-versicolor' 'Iris-versicolor'\n",
      " 'Iris-setosa' 'Iris-versicolor' 'Iris-setosa' 'Iris-versicolor'\n",
      " 'Iris-virginica' 'Iris-setosa' 'Iris-versicolor' 'Iris-setosa'\n",
      " 'Iris-versicolor' 'Iris-virginica' 'Iris-setosa' 'Iris-setosa'\n",
      " 'Iris-setosa' 'Iris-virginica' 'Iris-versicolor' 'Iris-virginica'\n",
      " 'Iris-versicolor' 'Iris-virginica' 'Iris-setosa' 'Iris-virginica'\n",
      " 'Iris-versicolor' 'Iris-setosa' 'Iris-versicolor' 'Iris-virginica'\n",
      " 'Iris-setosa' 'Iris-virginica' 'Iris-setosa' 'Iris-setosa' 'Iris-setosa'\n",
      " 'Iris-virginica' 'Iris-setosa' 'Iris-setosa' 'Iris-virginica'\n",
      " 'Iris-setosa' 'Iris-versicolor' 'Iris-versicolor' 'Iris-versicolor'\n",
      " 'Iris-versicolor' 'Iris-virginica' 'Iris-virginica']\n"
     ]
    }
   ],
   "source": [
    "print(\"Output of x_train during training:\")\n",
    "print(y_train)"
   ]
  },
  {
   "cell_type": "markdown",
   "id": "da99011f",
   "metadata": {},
   "source": [
    "FITTING THE MODEL USING LOGISTIC REGRESSION"
   ]
  },
  {
   "cell_type": "code",
   "execution_count": 33,
   "id": "13ed9a60",
   "metadata": {
    "scrolled": false
   },
   "outputs": [
    {
     "name": "stderr",
     "output_type": "stream",
     "text": [
      "C:\\Users\\Windows\\anaconda3\\lib\\site-packages\\sklearn\\linear_model\\_logistic.py:763: ConvergenceWarning: lbfgs failed to converge (status=1):\n",
      "STOP: TOTAL NO. of ITERATIONS REACHED LIMIT.\n",
      "\n",
      "Increase the number of iterations (max_iter) or scale the data as shown in:\n",
      "    https://scikit-learn.org/stable/modules/preprocessing.html\n",
      "Please also refer to the documentation for alternative solver options:\n",
      "    https://scikit-learn.org/stable/modules/linear_model.html#logistic-regression\n",
      "  n_iter_i = _check_optimize_result(\n"
     ]
    },
    {
     "data": {
      "text/plain": [
       "LogisticRegression()"
      ]
     },
     "execution_count": 33,
     "metadata": {},
     "output_type": "execute_result"
    }
   ],
   "source": [
    "from sklearn.linear_model import LogisticRegression\n",
    "model=LogisticRegression()\n",
    "model.fit(x_train,y_train) #input(x) and outpu(y) of training data is fitted into model using logistic regression\n"
   ]
  },
  {
   "cell_type": "markdown",
   "id": "0ee9f451",
   "metadata": {},
   "source": [
    "MODEL PREDICATION AND FINDING ACCURACY"
   ]
  },
  {
   "cell_type": "code",
   "execution_count": 36,
   "id": "c4d40274",
   "metadata": {},
   "outputs": [
    {
     "name": "stdout",
     "output_type": "stream",
     "text": [
      "Predicted value: Iris-setosa \tOriginal value: Iris-setosa\n",
      "Predicted value: Iris-versicolor \tOriginal value: Iris-versicolor\n",
      "Predicted value: Iris-setosa \tOriginal value: Iris-setosa\n",
      "Predicted value: Iris-setosa \tOriginal value: Iris-setosa\n",
      "Predicted value: Iris-versicolor \tOriginal value: Iris-versicolor\n",
      "Predicted value: Iris-virginica \tOriginal value: Iris-virginica\n",
      "Predicted value: Iris-setosa \tOriginal value: Iris-setosa\n",
      "Predicted value: Iris-virginica \tOriginal value: Iris-virginica\n",
      "Predicted value: Iris-versicolor \tOriginal value: Iris-versicolor\n",
      "Predicted value: Iris-versicolor \tOriginal value: Iris-versicolor\n",
      "Predicted value: Iris-virginica \tOriginal value: Iris-virginica\n",
      "Predicted value: Iris-setosa \tOriginal value: Iris-setosa\n",
      "Predicted value: Iris-versicolor \tOriginal value: Iris-versicolor\n",
      "Predicted value: Iris-setosa \tOriginal value: Iris-setosa\n",
      "Predicted value: Iris-setosa \tOriginal value: Iris-setosa\n",
      "Predicted value: Iris-virginica \tOriginal value: Iris-virginica\n",
      "Predicted value: Iris-versicolor \tOriginal value: Iris-versicolor\n",
      "Predicted value: Iris-versicolor \tOriginal value: Iris-versicolor\n",
      "Predicted value: Iris-virginica \tOriginal value: Iris-virginica\n",
      "Predicted value: Iris-virginica \tOriginal value: Iris-virginica\n",
      "Predicted value: Iris-virginica \tOriginal value: Iris-virginica\n",
      "Predicted value: Iris-versicolor \tOriginal value: Iris-versicolor\n",
      "Predicted value: Iris-setosa \tOriginal value: Iris-setosa\n",
      "Predicted value: Iris-versicolor \tOriginal value: Iris-versicolor\n",
      "Predicted value: Iris-virginica \tOriginal value: Iris-virginica\n",
      "Predicted value: Iris-versicolor \tOriginal value: Iris-versicolor\n",
      "Predicted value: Iris-setosa \tOriginal value: Iris-setosa\n",
      "Predicted value: Iris-virginica \tOriginal value: Iris-virginica\n",
      "Predicted value: Iris-setosa \tOriginal value: Iris-setosa\n",
      "Predicted value: Iris-setosa \tOriginal value: Iris-setosa\n"
     ]
    }
   ],
   "source": [
    "prediction=model.predict(x_test)  #x_test is numpy for input of testing the data,y_test is output\n",
    "for i in range(len(prediction)):\n",
    "  print(\"Predicted value:\",prediction[i],\"\\tOriginal value:\",y_test[i]) #y_test is Species column of test dataset seprated during\n",
    "                                                                       #model selection"
   ]
  },
  {
   "cell_type": "markdown",
   "id": "c94d2ce1",
   "metadata": {},
   "source": [
    "TESTING THE MODEL"
   ]
  },
  {
   "cell_type": "code",
   "execution_count": 37,
   "id": "d93c2373",
   "metadata": {},
   "outputs": [
    {
     "name": "stdout",
     "output_type": "stream",
     "text": [
      "Accuracy of the model:\n",
      "100.0\n"
     ]
    }
   ],
   "source": [
    "from sklearn.metrics import accuracy_score\n",
    "print(\"Accuracy of the model:\")\n",
    "print(accuracy_score(y_test,prediction)*100)"
   ]
  },
  {
   "cell_type": "code",
   "execution_count": null,
   "id": "f64afd3f",
   "metadata": {},
   "outputs": [],
   "source": []
  }
 ],
 "metadata": {
  "kernelspec": {
   "display_name": "Python 3",
   "language": "python",
   "name": "python3"
  },
  "language_info": {
   "codemirror_mode": {
    "name": "ipython",
    "version": 3
   },
   "file_extension": ".py",
   "mimetype": "text/x-python",
   "name": "python",
   "nbconvert_exporter": "python",
   "pygments_lexer": "ipython3",
   "version": "3.8.8"
  }
 },
 "nbformat": 4,
 "nbformat_minor": 5
}
