{
 "cells": [
  {
   "cell_type": "markdown",
   "id": "3b4eb9fd",
   "metadata": {},
   "source": [
    "# EMAIL SPAM DETECTION WTITH MACHINE LEARNING"
   ]
  },
  {
   "cell_type": "markdown",
   "id": "e7bac450",
   "metadata": {},
   "source": [
    "The goal of this project is to detect spam emails and ham emails we reached, with help of keyword dataset that tells the email\n",
    "could be spam.\n",
    "Email spam dector is build with python, then we train a machine learning mode to recognize and classify emails into spam and \n",
    "non-spam(ham)"
   ]
  },
  {
   "cell_type": "markdown",
   "id": "b3223c0f",
   "metadata": {},
   "source": [
    "### IMPORTING THE LIBRARIES"
   ]
  },
  {
   "cell_type": "code",
   "execution_count": 1,
   "id": "e2ae2989",
   "metadata": {},
   "outputs": [],
   "source": [
    "import numpy as np\n",
    "import pandas as pd\n",
    "import matplotlib.pyplot as plt\n",
    "import seaborn as sn"
   ]
  },
  {
   "cell_type": "markdown",
   "id": "87878d47",
   "metadata": {},
   "source": [
    "### LOADING THE DATASET"
   ]
  },
  {
   "cell_type": "code",
   "execution_count": 3,
   "id": "db9c354e",
   "metadata": {},
   "outputs": [
    {
     "name": "stdout",
     "output_type": "stream",
     "text": [
      "     label                                            message Unnamed: 2  \\\n",
      "0      ham  Go until jurong point, crazy.. Available only ...        NaN   \n",
      "1      ham                      Ok lar... Joking wif u oni...        NaN   \n",
      "2     spam  Free entry in 2 a wkly comp to win FA Cup fina...        NaN   \n",
      "3      ham  U dun say so early hor... U c already then say...        NaN   \n",
      "4      ham  Nah I don't think he goes to usf, he lives aro...        NaN   \n",
      "...    ...                                                ...        ...   \n",
      "5567  spam  This is the 2nd time we have tried 2 contact u...        NaN   \n",
      "5568   ham              Will Ì_ b going to esplanade fr home?        NaN   \n",
      "5569   ham  Pity, * was in mood for that. So...any other s...        NaN   \n",
      "5570   ham  The guy did some bitching but I acted like i'd...        NaN   \n",
      "5571   ham                         Rofl. Its true to its name        NaN   \n",
      "\n",
      "     Unnamed: 3 Unnamed: 4  \n",
      "0           NaN        NaN  \n",
      "1           NaN        NaN  \n",
      "2           NaN        NaN  \n",
      "3           NaN        NaN  \n",
      "4           NaN        NaN  \n",
      "...         ...        ...  \n",
      "5567        NaN        NaN  \n",
      "5568        NaN        NaN  \n",
      "5569        NaN        NaN  \n",
      "5570        NaN        NaN  \n",
      "5571        NaN        NaN  \n",
      "\n",
      "[5572 rows x 5 columns]\n"
     ]
    }
   ],
   "source": [
    "df=pd.read_csv('spam.csv',encoding=\"latin1\")\n",
    "print(df)"
   ]
  },
  {
   "cell_type": "markdown",
   "id": "b6107d43",
   "metadata": {},
   "source": [
    "Here we used UnicodeDecodeError to avoid illegal sequence of characters in string may cause coding specific decode error"
   ]
  },
  {
   "cell_type": "code",
   "execution_count": 4,
   "id": "19e4a464",
   "metadata": {},
   "outputs": [
    {
     "data": {
      "text/plain": [
       "Index(['label', 'message', 'Unnamed: 2', 'Unnamed: 3', 'Unnamed: 4'], dtype='object')"
      ]
     },
     "execution_count": 4,
     "metadata": {},
     "output_type": "execute_result"
    }
   ],
   "source": [
    "df.columns"
   ]
  },
  {
   "cell_type": "markdown",
   "id": "30d5e56d",
   "metadata": {},
   "source": [
    "unnamed 2,3,4 columns are unwanted since their values are NaN.So, drop those."
   ]
  },
  {
   "cell_type": "markdown",
   "id": "d2470098",
   "metadata": {},
   "source": [
    "### DROPPING THE UNWANTED COLUMNS"
   ]
  },
  {
   "cell_type": "code",
   "execution_count": 5,
   "id": "0b50be00",
   "metadata": {},
   "outputs": [],
   "source": [
    "df.drop(['Unnamed: 2','Unnamed: 3','Unnamed: 4'],axis=1,inplace=True)"
   ]
  },
  {
   "cell_type": "markdown",
   "id": "385b58ea",
   "metadata": {},
   "source": [
    "### FIRST FIVE ROWS OF THE EDITED DATASET"
   ]
  },
  {
   "cell_type": "code",
   "execution_count": 6,
   "id": "d66fe077",
   "metadata": {},
   "outputs": [
    {
     "data": {
      "text/html": [
       "<div>\n",
       "<style scoped>\n",
       "    .dataframe tbody tr th:only-of-type {\n",
       "        vertical-align: middle;\n",
       "    }\n",
       "\n",
       "    .dataframe tbody tr th {\n",
       "        vertical-align: top;\n",
       "    }\n",
       "\n",
       "    .dataframe thead th {\n",
       "        text-align: right;\n",
       "    }\n",
       "</style>\n",
       "<table border=\"1\" class=\"dataframe\">\n",
       "  <thead>\n",
       "    <tr style=\"text-align: right;\">\n",
       "      <th></th>\n",
       "      <th>label</th>\n",
       "      <th>message</th>\n",
       "    </tr>\n",
       "  </thead>\n",
       "  <tbody>\n",
       "    <tr>\n",
       "      <th>0</th>\n",
       "      <td>ham</td>\n",
       "      <td>Go until jurong point, crazy.. Available only ...</td>\n",
       "    </tr>\n",
       "    <tr>\n",
       "      <th>1</th>\n",
       "      <td>ham</td>\n",
       "      <td>Ok lar... Joking wif u oni...</td>\n",
       "    </tr>\n",
       "    <tr>\n",
       "      <th>2</th>\n",
       "      <td>spam</td>\n",
       "      <td>Free entry in 2 a wkly comp to win FA Cup fina...</td>\n",
       "    </tr>\n",
       "    <tr>\n",
       "      <th>3</th>\n",
       "      <td>ham</td>\n",
       "      <td>U dun say so early hor... U c already then say...</td>\n",
       "    </tr>\n",
       "    <tr>\n",
       "      <th>4</th>\n",
       "      <td>ham</td>\n",
       "      <td>Nah I don't think he goes to usf, he lives aro...</td>\n",
       "    </tr>\n",
       "  </tbody>\n",
       "</table>\n",
       "</div>"
      ],
      "text/plain": [
       "  label                                            message\n",
       "0   ham  Go until jurong point, crazy.. Available only ...\n",
       "1   ham                      Ok lar... Joking wif u oni...\n",
       "2  spam  Free entry in 2 a wkly comp to win FA Cup fina...\n",
       "3   ham  U dun say so early hor... U c already then say...\n",
       "4   ham  Nah I don't think he goes to usf, he lives aro..."
      ]
     },
     "execution_count": 6,
     "metadata": {},
     "output_type": "execute_result"
    }
   ],
   "source": [
    "df.head()"
   ]
  },
  {
   "cell_type": "markdown",
   "id": "28756937",
   "metadata": {},
   "source": [
    "### COUNT NO. OF HAM AND SPAM MESSAGES IN OUR DATASET AND VISUALIZING IN A PICTORIAL WAY"
   ]
  },
  {
   "cell_type": "code",
   "execution_count": 7,
   "id": "f72ba145",
   "metadata": {},
   "outputs": [
    {
     "name": "stdout",
     "output_type": "stream",
     "text": [
      "ham     4825\n",
      "spam     747\n",
      "Name: label, dtype: int64\n"
     ]
    },
    {
     "data": {
      "image/png": "[encoded data removed]",
      "text/plain": [
       "<Figure size 432x288 with 1 Axes>"
      ]
     },
     "metadata": {
      "needs_background": "light"
     },
     "output_type": "display_data"
    }
   ],
   "source": [
    "count=df.label.value_counts()\n",
    "print(count)\n",
    "plt.bar(count.index,count.values)\n",
    "plt.title('ham vs spam')\n",
    "plt.xlabel('label')\n",
    "plt.ylabel('count')\n",
    "plt.show()"
   ]
  },
  {
   "cell_type": "markdown",
   "id": "c9307894",
   "metadata": {},
   "source": [
    "### CHECKING FOR MISSING VALUES"
   ]
  },
  {
   "cell_type": "code",
   "execution_count": 8,
   "id": "f9d40eaa",
   "metadata": {},
   "outputs": [
    {
     "data": {
      "text/plain": [
       "label      False\n",
       "message    False\n",
       "dtype: bool"
      ]
     },
     "execution_count": 8,
     "metadata": {},
     "output_type": "execute_result"
    }
   ],
   "source": [
    "df.isnull().any()"
   ]
  },
  {
   "cell_type": "markdown",
   "id": "6fb6f4a8",
   "metadata": {},
   "source": [
    "We can see there are no missing values in the dataset"
   ]
  },
  {
   "cell_type": "code",
   "execution_count": 9,
   "id": "955f467e",
   "metadata": {},
   "outputs": [
    {
     "name": "stdout",
     "output_type": "stream",
     "text": [
      "<class 'pandas.core.frame.DataFrame'>\n",
      "RangeIndex: 5572 entries, 0 to 5571\n",
      "Data columns (total 2 columns):\n",
      " #   Column   Non-Null Count  Dtype \n",
      "---  ------   --------------  ----- \n",
      " 0   label    5572 non-null   object\n",
      " 1   message  5572 non-null   object\n",
      "dtypes: object(2)\n",
      "memory usage: 87.2+ KB\n"
     ]
    }
   ],
   "source": [
    "df.info()"
   ]
  },
  {
   "cell_type": "markdown",
   "id": "059b0d0e",
   "metadata": {},
   "source": [
    "Our dataset is type of categorical, training model cannot understand string format.So we have to encode the data."
   ]
  },
  {
   "cell_type": "markdown",
   "id": "c8909657",
   "metadata": {},
   "source": [
    "### ENCODING THE CATEGORICAL DATA"
   ]
  },
  {
   "cell_type": "code",
   "execution_count": 11,
   "id": "f3aa5a2c",
   "metadata": {},
   "outputs": [],
   "source": [
    "df.replace({'label':{'ham':0,'spam':1}},inplace=True)"
   ]
  },
  {
   "cell_type": "markdown",
   "id": "2e348429",
   "metadata": {},
   "source": [
    "Here, we replaced 'ham' with 0,\n",
    "and, 'spam' with 1."
   ]
  },
  {
   "cell_type": "code",
   "execution_count": 12,
   "id": "426a3bac",
   "metadata": {},
   "outputs": [
    {
     "data": {
      "text/html": [
       "<div>\n",
       "<style scoped>\n",
       "    .dataframe tbody tr th:only-of-type {\n",
       "        vertical-align: middle;\n",
       "    }\n",
       "\n",
       "    .dataframe tbody tr th {\n",
       "        vertical-align: top;\n",
       "    }\n",
       "\n",
       "    .dataframe thead th {\n",
       "        text-align: right;\n",
       "    }\n",
       "</style>\n",
       "<table border=\"1\" class=\"dataframe\">\n",
       "  <thead>\n",
       "    <tr style=\"text-align: right;\">\n",
       "      <th></th>\n",
       "      <th>label</th>\n",
       "      <th>message</th>\n",
       "    </tr>\n",
       "  </thead>\n",
       "  <tbody>\n",
       "    <tr>\n",
       "      <th>0</th>\n",
       "      <td>0</td>\n",
       "      <td>Go until jurong point, crazy.. Available only ...</td>\n",
       "    </tr>\n",
       "    <tr>\n",
       "      <th>1</th>\n",
       "      <td>0</td>\n",
       "      <td>Ok lar... Joking wif u oni...</td>\n",
       "    </tr>\n",
       "    <tr>\n",
       "      <th>2</th>\n",
       "      <td>1</td>\n",
       "      <td>Free entry in 2 a wkly comp to win FA Cup fina...</td>\n",
       "    </tr>\n",
       "    <tr>\n",
       "      <th>3</th>\n",
       "      <td>0</td>\n",
       "      <td>U dun say so early hor... U c already then say...</td>\n",
       "    </tr>\n",
       "    <tr>\n",
       "      <th>4</th>\n",
       "      <td>0</td>\n",
       "      <td>Nah I don't think he goes to usf, he lives aro...</td>\n",
       "    </tr>\n",
       "  </tbody>\n",
       "</table>\n",
       "</div>"
      ],
      "text/plain": [
       "   label                                            message\n",
       "0      0  Go until jurong point, crazy.. Available only ...\n",
       "1      0                      Ok lar... Joking wif u oni...\n",
       "2      1  Free entry in 2 a wkly comp to win FA Cup fina...\n",
       "3      0  U dun say so early hor... U c already then say...\n",
       "4      0  Nah I don't think he goes to usf, he lives aro..."
      ]
     },
     "execution_count": 12,
     "metadata": {},
     "output_type": "execute_result"
    }
   ],
   "source": [
    "df.head()"
   ]
  },
  {
   "cell_type": "markdown",
   "id": "4d25051d",
   "metadata": {},
   "source": [
    "### CONVERTING MESSAGE COLUMN(TEXT) INTO NUMERICAL "
   ]
  },
  {
   "cell_type": "code",
   "execution_count": 13,
   "id": "dd986df5",
   "metadata": {},
   "outputs": [],
   "source": [
    "from sklearn.feature_extraction.text import CountVectorizer\n",
    "cv=CountVectorizer()"
   ]
  },
  {
   "cell_type": "markdown",
   "id": "d6fc2404",
   "metadata": {},
   "source": [
    "### SEPERATING THE INPUT AND OUTPUT COLUMNS"
   ]
  },
  {
   "cell_type": "code",
   "execution_count": 17,
   "id": "dfe528cc",
   "metadata": {},
   "outputs": [],
   "source": [
    "x=df['message']\n",
    "y=df['label']\n",
    "x=cv.fit_transform(x)"
   ]
  },
  {
   "cell_type": "markdown",
   "id": "6e13bd6c",
   "metadata": {},
   "source": [
    "x is message column that is converted into numerical data for machine learning model."
   ]
  },
  {
   "cell_type": "markdown",
   "id": "a2e5aebd",
   "metadata": {},
   "source": [
    "### SEPERATING TRAINING AND TESTING DATA"
   ]
  },
  {
   "cell_type": "code",
   "execution_count": 43,
   "id": "014396f5",
   "metadata": {
    "scrolled": true
   },
   "outputs": [
    {
     "name": "stdout",
     "output_type": "stream",
     "text": [
      "4502    0\n",
      "2853    0\n",
      "2386    0\n",
      "758     0\n",
      "1616    0\n",
      "       ..\n",
      "4789    0\n",
      "2648    0\n",
      "3399    1\n",
      "1430    0\n",
      "3508    0\n",
      "Name: label, Length: 4457, dtype: int64\n"
     ]
    }
   ],
   "source": [
    "from sklearn.model_selection import train_test_split\n",
    "x_train, x_test, y_train, y_test = train_test_split(x,y, test_size=0.2)\n",
    "print(y_train)"
   ]
  },
  {
   "cell_type": "markdown",
   "id": "c0fafd23",
   "metadata": {},
   "source": [
    "message (string) in converted into numeric format for input here."
   ]
  },
  {
   "cell_type": "markdown",
   "id": "d9f7cd17",
   "metadata": {},
   "source": [
    "### FITTING THE MODEL USING LOGISTIC REGRESSION"
   ]
  },
  {
   "cell_type": "code",
   "execution_count": 44,
   "id": "800d88a8",
   "metadata": {},
   "outputs": [
    {
     "data": {
      "text/plain": [
       "LogisticRegression()"
      ]
     },
     "execution_count": 44,
     "metadata": {},
     "output_type": "execute_result"
    }
   ],
   "source": [
    "from sklearn.linear_model import LogisticRegression\n",
    "model = LogisticRegression()\n",
    "model.fit(x_train, y_train)"
   ]
  },
  {
   "cell_type": "markdown",
   "id": "72aca5d2",
   "metadata": {},
   "source": [
    "### MODEL PREDICATION AND FINDING ACCURACY"
   ]
  },
  {
   "cell_type": "code",
   "execution_count": 45,
   "id": "af36b6c2",
   "metadata": {},
   "outputs": [
    {
     "name": "stdout",
     "output_type": "stream",
     "text": [
      "[1 0 0 ... 0 0 0]\n"
     ]
    }
   ],
   "source": [
    "prediction = model.predict(x_test)\n",
    "print(prediction)"
   ]
  },
  {
   "cell_type": "code",
   "execution_count": 46,
   "id": "62d2b2a5",
   "metadata": {},
   "outputs": [
    {
     "name": "stdout",
     "output_type": "stream",
     "text": [
      "Accuracy: 98.11659192825111\n"
     ]
    }
   ],
   "source": [
    "from sklearn.metrics import accuracy_score\n",
    "print('Accuracy:', accuracy_score(y_test, prediction)*100)"
   ]
  },
  {
   "cell_type": "markdown",
   "id": "85734569",
   "metadata": {},
   "source": [
    "###### Note: We need to seperate train and test data. And fit the data again into the model and train it until the accuracy reaches above 98%"
   ]
  },
  {
   "cell_type": "markdown",
   "id": "39d39454",
   "metadata": {},
   "source": [
    "### PREDICTING NEW MESSAGES INTO HAM AND SPAM"
   ]
  },
  {
   "cell_type": "markdown",
   "id": "f26e04f6",
   "metadata": {},
   "source": [
    "Hey, just checking in to see how you're doing.\"----->ham message\n",
    "\n",
    "The IRS is Trying to Contact You\",------>ham message\n",
    "\n",
    "Go until jurong point, crazy.. Available only in bugis n great world la e buffet... Cine there got amore wat...\"------>ham message\n",
    "\n",
    "\"Free entry in 2 a wkly comp to win FA Cup final tkts 21st May 2005. Text FA to 87121 to receive entry question(std txt rate)T&C's apply 08452810075over18's\"------>spam message"
   ]
  },
  {
   "cell_type": "markdown",
   "id": "ab2435ef",
   "metadata": {},
   "source": [
    "#### check the model prediction for above test data."
   ]
  },
  {
   "cell_type": "code",
   "execution_count": 47,
   "id": "8e490f08",
   "metadata": {},
   "outputs": [],
   "source": [
    "msg = [\"Hey, just checking in to see how you're doing.\",\n",
    "            \"The IRS is Trying to Contact You\",\n",
    "            \"Go until jurong point, crazy.. Available only in bugis n great world la e buffet... Cine there got amore wat...\",\n",
    "            \"Free entry in 2 a wkly comp to win FA Cup final tkts 21st May 2005. Text FA to 87121 to receive entry question(std txt rate)T&C's apply 08452810075over18's\"]\n",
    "x_new = cv.transform(msg)\n",
    "y_new = model.predict(x_new)"
   ]
  },
  {
   "cell_type": "markdown",
   "id": "b2446491",
   "metadata": {},
   "source": [
    "### PRINT PREDICTIONS"
   ]
  },
  {
   "cell_type": "code",
   "execution_count": 48,
   "id": "85f64fa2",
   "metadata": {},
   "outputs": [
    {
     "name": "stdout",
     "output_type": "stream",
     "text": [
      "0. Hey, just checking in to see how you're doing.-0\n",
      "1. The IRS is Trying to Contact You-0\n",
      "2. Go until jurong point, crazy.. Available only in bugis n great world la e buffet... Cine there got amore wat...-0\n",
      "3. Free entry in 2 a wkly comp to win FA Cup final tkts 21st May 2005. Text FA to 87121 to receive entry question(std txt rate)T&C's apply 08452810075over18's-1\n"
     ]
    }
   ],
   "source": [
    "for i in range(len(y_new)):\n",
    "    print(\"{0}. {1}-{2}\".format(i,msg[i],y_new[i]))"
   ]
  },
  {
   "cell_type": "markdown",
   "id": "145ba057",
   "metadata": {},
   "source": [
    "Predicted in the correct way."
   ]
  },
  {
   "cell_type": "code",
   "execution_count": null,
   "id": "d5bc8854",
   "metadata": {},
   "outputs": [],
   "source": []
  }
 ],
 "metadata": {
  "kernelspec": {
   "display_name": "Python 3",
   "language": "python",
   "name": "python3"
  },
  "language_info": {
   "codemirror_mode": {
    "name": "ipython",
    "version": 3
   },
   "file_extension": ".py",
   "mimetype": "text/x-python",
   "name": "python",
   "nbconvert_exporter": "python",
   "pygments_lexer": "ipython3",
   "version": "3.8.8"
  }
 },
 "nbformat": 4,
 "nbformat_minor": 5
}
